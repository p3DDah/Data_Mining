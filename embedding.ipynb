{
 "cells": [
  {
   "cell_type": "code",
   "execution_count": 1,
   "id": "initial_id",
   "metadata": {
    "collapsed": true
   },
   "outputs": [
    {
     "name": "stderr",
     "output_type": "stream",
     "text": [
      "/home/yys/.conda/envs/baselines/lib/python3.8/site-packages/tqdm/auto.py:21: TqdmWarning: IProgress not found. Please update jupyter and ipywidgets. See https://ipywidgets.readthedocs.io/en/stable/user_install.html\n",
      "  from .autonotebook import tqdm as notebook_tqdm\n"
     ]
    }
   ],
   "source": [
    "import os\n",
    "\n",
    "import torch\n",
    "import numpy as np\n",
    "import pandas as pd\n",
    "\n",
    "from sklearn.cluster import KMeans\n",
    "\n",
    "from preprocess import get_csv"
   ]
  },
  {
   "cell_type": "code",
   "execution_count": 2,
   "metadata": {},
   "outputs": [],
   "source": [
    "from sentence_transformers import SentenceTransformer\n",
    "model = SentenceTransformer(\"all-MiniLM-L6-v2\")"
   ]
  },
  {
   "cell_type": "code",
   "execution_count": 3,
   "metadata": {},
   "outputs": [
    {
     "name": "stdout",
     "output_type": "stream",
     "text": [
      "The file already exists.\n",
      "                                               title       categories  \\\n",
      "0  Calculation of prompt diphoton production cros...           hep-ph   \n",
      "1           Sparsity-certifying Graph Decompositions    math.CO cs.CG   \n",
      "2  The evolution of the Earth-Moon system based o...   physics.gen-ph   \n",
      "3  A determinant of Stirling cycle numbers counts...          math.CO   \n",
      "4  From dyadic $\\Lambda_{\\alpha}$ to $\\Lambda_{\\a...  math.CA math.FA   \n",
      "\n",
      "                                            abstract    versions  \n",
      "0  A fully differential calculation in perturbati...  2007-07-24  \n",
      "1  We describe a new algorithm, the $(k,\\ell)$-pe...  2008-12-13  \n",
      "2  The evolution of Earth-Moon system is describe...  2008-01-13  \n",
      "3  We show that a determinant of Stirling cycle n...  2007-03-31  \n",
      "4  In this paper we show how to compute the $\\Lam...  2007-04-02  \n"
     ]
    }
   ],
   "source": [
    "# Set the file path for your CSV file\n",
    "file_path = 'arxiv-metadata-oai-snapshot.csv'\n",
    "\n",
    "# Check if the file exists\n",
    "if not os.path.exists(file_path):\n",
    "    # If the file does not exist, call the get_csv method\n",
    "    print(\"Creating CSV from JSON file.\")\n",
    "    get_csv()\n",
    "else:\n",
    "    print(\"The file already exists.\")\n",
    "\n",
    "# Read the CSV file into a DataFrame\n",
    "df = pd.read_csv(file_path)\n",
    "\n",
    "# Display the first few rows of the DataFrame to confirm it's loaded correctly\n",
    "print(df.head())"
   ]
  },
  {
   "cell_type": "code",
   "execution_count": 4,
   "metadata": {},
   "outputs": [
    {
     "name": "stdout",
     "output_type": "stream",
     "text": [
      "The file already exists.\n",
      "(2370685, 384)\n"
     ]
    }
   ],
   "source": [
    "corpus = df[\"abstract\"]\n",
    "title = df[\"title\"]\n",
    "\n",
    "# Set the file path for your CSV file\n",
    "embeddings_path = 'embeddings.npy'\n",
    "\n",
    "# Check if the file exists\n",
    "if not os.path.exists(embeddings_path):\n",
    "    # If the file does not exist, call the get_embedding method\n",
    "    print(\"Creating CSV from JSON file.\")\n",
    "    corpus_embeddings = model.encode(corpus, show_progress_bar=True)\n",
    "    np.save(\"./embeddings.npy\", corpus_embeddings, allow_pickle=True)\n",
    "else:\n",
    "    print(\"The file already exists.\")\n",
    "    corpus_embeddings = np.load(\"./embeddings.npy\", allow_pickle=True)\n",
    "\n",
    "print(corpus_embeddings.shape)"
   ]
  },
  {
   "cell_type": "code",
   "execution_count": 5,
   "metadata": {},
   "outputs": [
    {
     "name": "stderr",
     "output_type": "stream",
     "text": [
      "/home/yys/.conda/envs/baselines/lib/python3.8/site-packages/sklearn/cluster/_kmeans.py:870: FutureWarning: The default value of `n_init` will change from 10 to 'auto' in 1.4. Set the value of `n_init` explicitly to suppress the warning\n",
      "  warnings.warn(\n"
     ]
    }
   ],
   "source": [
    "### We need to make this cell into a function.\n",
    "\n",
    "num_clusters = 11\n",
    "clustering_model = KMeans(n_clusters=num_clusters)\n",
    "clustering_model.fit(corpus_embeddings)\n",
    "cluster_assignment = clustering_model.labels_\n",
    "\n",
    "# clustered_sentences = [[] for i in range(num_clusters)]\n",
    "# for sentence_id, cluster_id in enumerate(cluster_assignment):\n",
    "#     clustered_sentences[cluster_id].append(title[sentence_id])\n",
    "\n",
    "# # for i, cluster in enumerate(clustered_sentences):\n",
    "# #     print(\"Cluster \", i + 1)\n",
    "# #     print(cluster)\n",
    "# #     print(\"\")"
   ]
  },
  {
   "cell_type": "code",
   "execution_count": 6,
   "id": "101ff821",
   "metadata": {},
   "outputs": [
    {
     "name": "stdout",
     "output_type": "stream",
     "text": [
      "[3 4 1 ... 8 8 8]\n"
     ]
    }
   ],
   "source": [
    "print(cluster_assignment)\n",
    "np.save(\"./clusters_11.npy\", cluster_assignment, allow_pickle=True)"
   ]
  },
  {
   "cell_type": "code",
   "execution_count": 10,
   "id": "633a17c3",
   "metadata": {},
   "outputs": [
    {
     "data": {
      "text/plain": [
       "0                              hep-ph\n",
       "1                       math.CO cs.CG\n",
       "2                      physics.gen-ph\n",
       "3                             math.CO\n",
       "4                     math.CA math.FA\n",
       "                      ...            \n",
       "2370680    supr-con cond-mat.supr-con\n",
       "2370681    supr-con cond-mat.supr-con\n",
       "2370682    supr-con cond-mat.supr-con\n",
       "2370683    supr-con cond-mat.supr-con\n",
       "2370684    supr-con cond-mat.supr-con\n",
       "Name: categories, Length: 2370685, dtype: object"
      ]
     },
     "execution_count": 10,
     "metadata": {},
     "output_type": "execute_result"
    }
   ],
   "source": [
    "df.categories"
   ]
  },
  {
   "cell_type": "code",
   "execution_count": 11,
   "metadata": {},
   "outputs": [
    {
     "data": {
      "text/html": [
       "<div>\n",
       "<style scoped>\n",
       "    .dataframe tbody tr th:only-of-type {\n",
       "        vertical-align: middle;\n",
       "    }\n",
       "\n",
       "    .dataframe tbody tr th {\n",
       "        vertical-align: top;\n",
       "    }\n",
       "\n",
       "    .dataframe thead th {\n",
       "        text-align: right;\n",
       "    }\n",
       "</style>\n",
       "<table border=\"1\" class=\"dataframe\">\n",
       "  <thead>\n",
       "    <tr style=\"text-align: right;\">\n",
       "      <th></th>\n",
       "      <th>title</th>\n",
       "      <th>categories</th>\n",
       "      <th>abstract</th>\n",
       "      <th>versions</th>\n",
       "      <th>clustering-11</th>\n",
       "    </tr>\n",
       "  </thead>\n",
       "  <tbody>\n",
       "    <tr>\n",
       "      <th>0</th>\n",
       "      <td>Calculation of prompt diphoton production cros...</td>\n",
       "      <td>hep-ph</td>\n",
       "      <td>A fully differential calculation in perturbati...</td>\n",
       "      <td>2007-07-24</td>\n",
       "      <td>3</td>\n",
       "    </tr>\n",
       "    <tr>\n",
       "      <th>1</th>\n",
       "      <td>Sparsity-certifying Graph Decompositions</td>\n",
       "      <td>math.CO cs.CG</td>\n",
       "      <td>We describe a new algorithm, the $(k,\\ell)$-pe...</td>\n",
       "      <td>2008-12-13</td>\n",
       "      <td>4</td>\n",
       "    </tr>\n",
       "    <tr>\n",
       "      <th>2</th>\n",
       "      <td>The evolution of the Earth-Moon system based o...</td>\n",
       "      <td>physics.gen-ph</td>\n",
       "      <td>The evolution of Earth-Moon system is describe...</td>\n",
       "      <td>2008-01-13</td>\n",
       "      <td>1</td>\n",
       "    </tr>\n",
       "    <tr>\n",
       "      <th>3</th>\n",
       "      <td>A determinant of Stirling cycle numbers counts...</td>\n",
       "      <td>math.CO</td>\n",
       "      <td>We show that a determinant of Stirling cycle n...</td>\n",
       "      <td>2007-03-31</td>\n",
       "      <td>4</td>\n",
       "    </tr>\n",
       "    <tr>\n",
       "      <th>4</th>\n",
       "      <td>From dyadic $\\Lambda_{\\alpha}$ to $\\Lambda_{\\a...</td>\n",
       "      <td>math.CA math.FA</td>\n",
       "      <td>In this paper we show how to compute the $\\Lam...</td>\n",
       "      <td>2007-04-02</td>\n",
       "      <td>9</td>\n",
       "    </tr>\n",
       "    <tr>\n",
       "      <th>...</th>\n",
       "      <td>...</td>\n",
       "      <td>...</td>\n",
       "      <td>...</td>\n",
       "      <td>...</td>\n",
       "      <td>...</td>\n",
       "    </tr>\n",
       "    <tr>\n",
       "      <th>2370680</th>\n",
       "      <td>On the origin of the irreversibility line in t...</td>\n",
       "      <td>supr-con cond-mat.supr-con</td>\n",
       "      <td>We report on measurements of the angular depen...</td>\n",
       "      <td>1996-08-26</td>\n",
       "      <td>8</td>\n",
       "    </tr>\n",
       "    <tr>\n",
       "      <th>2370681</th>\n",
       "      <td>Nonlinear Response of HTSC Thin Film Microwave...</td>\n",
       "      <td>supr-con cond-mat.supr-con</td>\n",
       "      <td>The non-linear microwave surface impedance of ...</td>\n",
       "      <td>1996-08-31</td>\n",
       "      <td>8</td>\n",
       "    </tr>\n",
       "    <tr>\n",
       "      <th>2370682</th>\n",
       "      <td>Critical State Flux Penetration and Linear Mic...</td>\n",
       "      <td>supr-con cond-mat.supr-con</td>\n",
       "      <td>The vortex contribution to the dc field (H) de...</td>\n",
       "      <td>1996-09-03</td>\n",
       "      <td>8</td>\n",
       "    </tr>\n",
       "    <tr>\n",
       "      <th>2370683</th>\n",
       "      <td>Density of States and NMR Relaxation Rate in A...</td>\n",
       "      <td>supr-con cond-mat.supr-con</td>\n",
       "      <td>We show that the density of states in an aniso...</td>\n",
       "      <td>1996-09-18</td>\n",
       "      <td>8</td>\n",
       "    </tr>\n",
       "    <tr>\n",
       "      <th>2370684</th>\n",
       "      <td>Ginzburg Landau theory for d-wave pairing and ...</td>\n",
       "      <td>supr-con cond-mat.supr-con</td>\n",
       "      <td>The Ginzburg Landau theory for d_{x^2-y^2}-wav...</td>\n",
       "      <td>1996-09-25</td>\n",
       "      <td>8</td>\n",
       "    </tr>\n",
       "  </tbody>\n",
       "</table>\n",
       "<p>2370685 rows × 5 columns</p>\n",
       "</div>"
      ],
      "text/plain": [
       "                                                     title  \\\n",
       "0        Calculation of prompt diphoton production cros...   \n",
       "1                 Sparsity-certifying Graph Decompositions   \n",
       "2        The evolution of the Earth-Moon system based o...   \n",
       "3        A determinant of Stirling cycle numbers counts...   \n",
       "4        From dyadic $\\Lambda_{\\alpha}$ to $\\Lambda_{\\a...   \n",
       "...                                                    ...   \n",
       "2370680  On the origin of the irreversibility line in t...   \n",
       "2370681  Nonlinear Response of HTSC Thin Film Microwave...   \n",
       "2370682  Critical State Flux Penetration and Linear Mic...   \n",
       "2370683  Density of States and NMR Relaxation Rate in A...   \n",
       "2370684  Ginzburg Landau theory for d-wave pairing and ...   \n",
       "\n",
       "                         categories  \\\n",
       "0                            hep-ph   \n",
       "1                     math.CO cs.CG   \n",
       "2                    physics.gen-ph   \n",
       "3                           math.CO   \n",
       "4                   math.CA math.FA   \n",
       "...                             ...   \n",
       "2370680  supr-con cond-mat.supr-con   \n",
       "2370681  supr-con cond-mat.supr-con   \n",
       "2370682  supr-con cond-mat.supr-con   \n",
       "2370683  supr-con cond-mat.supr-con   \n",
       "2370684  supr-con cond-mat.supr-con   \n",
       "\n",
       "                                                  abstract    versions  \\\n",
       "0        A fully differential calculation in perturbati...  2007-07-24   \n",
       "1        We describe a new algorithm, the $(k,\\ell)$-pe...  2008-12-13   \n",
       "2        The evolution of Earth-Moon system is describe...  2008-01-13   \n",
       "3        We show that a determinant of Stirling cycle n...  2007-03-31   \n",
       "4        In this paper we show how to compute the $\\Lam...  2007-04-02   \n",
       "...                                                    ...         ...   \n",
       "2370680  We report on measurements of the angular depen...  1996-08-26   \n",
       "2370681  The non-linear microwave surface impedance of ...  1996-08-31   \n",
       "2370682  The vortex contribution to the dc field (H) de...  1996-09-03   \n",
       "2370683  We show that the density of states in an aniso...  1996-09-18   \n",
       "2370684  The Ginzburg Landau theory for d_{x^2-y^2}-wav...  1996-09-25   \n",
       "\n",
       "         clustering-11  \n",
       "0                    3  \n",
       "1                    4  \n",
       "2                    1  \n",
       "3                    4  \n",
       "4                    9  \n",
       "...                ...  \n",
       "2370680              8  \n",
       "2370681              8  \n",
       "2370682              8  \n",
       "2370683              8  \n",
       "2370684              8  \n",
       "\n",
       "[2370685 rows x 5 columns]"
      ]
     },
     "execution_count": 11,
     "metadata": {},
     "output_type": "execute_result"
    }
   ],
   "source": [
    "df[\"clustering-{}\".format(num_clusters)] = cluster_assignment\n",
    "df"
   ]
  },
  {
   "cell_type": "code",
   "execution_count": 7,
   "metadata": {},
   "outputs": [],
   "source": [
    "df.to_csv(\"arxiv-metadata-oai-snapshot-clustering-{}.csv\".format(num_clusters), index=False)"
   ]
  },
  {
   "cell_type": "code",
   "execution_count": null,
   "metadata": {},
   "outputs": [],
   "source": [
    "df = pd.read_csv(\"arxiv-metadata-oai-snapshot-clustering-{}.csv\".format(num_clusters))\n",
    "df"
   ]
  },
  {
   "cell_type": "code",
   "execution_count": 38,
   "id": "da4818c8",
   "metadata": {},
   "outputs": [],
   "source": [
    "x = df['versions'].copy()\n",
    "for i in range(len(x)):\n",
    "    x[i] = int(x[i][:4])\n",
    "    \n",
    "np.save(\"./years.npy\", x, allow_pickle=True)"
   ]
  },
  {
   "cell_type": "code",
   "execution_count": null,
   "id": "dc19835c",
   "metadata": {},
   "outputs": [],
   "source": [
    "df[df[\"clustering-11\"] == 0].categories"
   ]
  },
  {
   "cell_type": "code",
   "execution_count": 19,
   "id": "74010ee3",
   "metadata": {},
   "outputs": [],
   "source": [
    "vote = df[df[\"clustering-11\"] == 0].categories.value_counts()"
   ]
  },
  {
   "cell_type": "code",
   "execution_count": 22,
   "id": "560aea1d",
   "metadata": {},
   "outputs": [
    {
     "name": "stdout",
     "output_type": "stream",
     "text": [
      "math.AG    18775\n",
      "math.NT    11293\n",
      "math.DG     7994\n",
      "math.GT     7246\n",
      "hep-th      6556\n",
      "Name: categories, dtype: int64\n"
     ]
    }
   ],
   "source": [
    "print(vote[0:5])"
   ]
  },
  {
   "cell_type": "code",
   "execution_count": 36,
   "id": "3c058c67",
   "metadata": {},
   "outputs": [
    {
     "name": "stdout",
     "output_type": "stream",
     "text": [
      "cluster 0\n",
      "math.AG    18775\n",
      "math.NT    11293\n",
      "math.DG     7994\n",
      "Name: categories, dtype: int64\n",
      "\n",
      "cluster 1\n",
      "astro-ph       78866\n",
      "astro-ph.GA    28459\n",
      "astro-ph.SR    25249\n",
      "Name: categories, dtype: int64\n",
      "\n",
      "cluster 2\n",
      "hep-th          45381\n",
      "gr-qc           25082\n",
      "hep-th gr-qc    10321\n",
      "Name: categories, dtype: int64\n",
      "\n",
      "cluster 3\n",
      "hep-ph     70922\n",
      "hep-ex     16738\n",
      "nucl-th    15039\n",
      "Name: categories, dtype: int64\n",
      "\n",
      "cluster 4\n",
      "math.CO    23971\n",
      "math.NT     6353\n",
      "cs.DS       6279\n",
      "Name: categories, dtype: int64\n",
      "\n",
      "cluster 5\n",
      "cs.CV    47118\n",
      "cs.CL    19593\n",
      "cs.LG    11222\n",
      "Name: categories, dtype: int64\n",
      "\n",
      "cluster 6\n",
      "quant-ph             58131\n",
      "physics.optics        6951\n",
      "cond-mat.mes-hall     4725\n",
      "Name: categories, dtype: int64\n",
      "\n",
      "cluster 7\n",
      "cs.IT math.IT    15440\n",
      "math.OC           9769\n",
      "stat.ME           9045\n",
      "Name: categories, dtype: int64\n",
      "\n",
      "cluster 8\n",
      "cond-mat.mtrl-sci    32285\n",
      "cond-mat.mes-hall    28091\n",
      "cond-mat.str-el      23374\n",
      "Name: categories, dtype: int64\n",
      "\n",
      "cluster 9\n",
      "math.AP    28068\n",
      "math.PR    11765\n",
      "math.FA     9351\n",
      "Name: categories, dtype: int64\n",
      "\n",
      "cluster 10\n",
      "cond-mat.stat-mech    12460\n",
      "cond-mat.soft         11442\n",
      "physics.flu-dyn        9579\n",
      "Name: categories, dtype: int64\n",
      "\n"
     ]
    }
   ],
   "source": [
    "for i in range(11):\n",
    "    vote = df[df[\"clustering-11\"] == i].categories.value_counts()#.reset_index()\n",
    "    print(f'cluster {i}') # {len(df[df[\"clustering-11\"] == i].categories)}')\n",
    "    print(f'{vote.head(3)}\\n')"
   ]
  },
  {
   "cell_type": "code",
   "execution_count": null,
   "id": "6d114900",
   "metadata": {},
   "outputs": [],
   "source": []
  },
  {
   "cell_type": "code",
   "execution_count": null,
   "id": "e14c542f",
   "metadata": {},
   "outputs": [],
   "source": []
  }
 ],
 "metadata": {
  "kernelspec": {
   "display_name": "Python 3",
   "language": "python",
   "name": "python3"
  },
  "language_info": {
   "codemirror_mode": {
    "name": "ipython",
    "version": 3
   },
   "file_extension": ".py",
   "mimetype": "text/x-python",
   "name": "python",
   "nbconvert_exporter": "python",
   "pygments_lexer": "ipython3",
   "version": "3.8.16"
  }
 },
 "nbformat": 4,
 "nbformat_minor": 5
}
