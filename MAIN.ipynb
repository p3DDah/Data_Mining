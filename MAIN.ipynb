{
 "cells": [
  {
   "cell_type": "code",
   "execution_count": null,
   "id": "57ee73d127d27174",
   "metadata": {
    "collapsed": true
   },
   "outputs": [],
   "source": [
    "import logging\n",
    "\n",
    "from preprocess import get_data\n",
    "from embedding import get_embedding, clustering\n",
    "from visualize import create_histograms, create_similarity_matrix"
   ]
  },
  {
   "cell_type": "code",
   "execution_count": null,
   "outputs": [],
   "source": [
    "LOG_LEVEL = logging.DEBUG"
   ],
   "metadata": {
    "collapsed": false
   },
   "id": "9bea72e2fb873db2"
  },
  {
   "cell_type": "code",
   "execution_count": null,
   "outputs": [],
   "source": [
    "# Set up logging configuration\n",
    "logging.basicConfig(level=LOG_LEVEL, format='%(levelname)s: %(message)s')"
   ],
   "metadata": {
    "collapsed": false
   },
   "id": "dbb1810b5227d8df"
  },
  {
   "cell_type": "code",
   "execution_count": null,
   "outputs": [],
   "source": [
    "df = get_data()"
   ],
   "metadata": {
    "collapsed": false
   },
   "id": "39a3a946210f6897"
  },
  {
   "cell_type": "code",
   "execution_count": null,
   "outputs": [],
   "source": [
    "corpus_embeddings = get_embedding(df)"
   ],
   "metadata": {
    "collapsed": false
   },
   "id": "24362a06abebb315"
  },
  {
   "cell_type": "code",
   "execution_count": null,
   "outputs": [],
   "source": [
    "cluster_assignment = clustering(corpus_embeddings, num_clusters=30)"
   ],
   "metadata": {
    "collapsed": false
   },
   "id": "59fd51a7b552e503"
  },
  {
   "cell_type": "code",
   "execution_count": null,
   "outputs": [],
   "source": [
    "create_histograms(1970, 1980, top_k=5)"
   ],
   "metadata": {
    "collapsed": false
   },
   "id": "c3a54ae6949bbafb"
  },
  {
   "cell_type": "code",
   "execution_count": null,
   "outputs": [],
   "source": [
    "category_list = []\n",
    "create_similarity_matrix(category_list)"
   ],
   "metadata": {
    "collapsed": false
   },
   "id": "initial_id"
  }
 ],
 "metadata": {
  "kernelspec": {
   "display_name": "Python 3",
   "language": "python",
   "name": "python3"
  },
  "language_info": {
   "codemirror_mode": {
    "name": "ipython",
    "version": 2
   },
   "file_extension": ".py",
   "mimetype": "text/x-python",
   "name": "python",
   "nbconvert_exporter": "python",
   "pygments_lexer": "ipython2",
   "version": "2.7.6"
  }
 },
 "nbformat": 4,
 "nbformat_minor": 5
}
