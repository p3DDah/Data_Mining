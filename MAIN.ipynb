{
 "cells": [
  {
   "cell_type": "code",
   "execution_count": 1,
   "id": "57ee73d127d27174",
   "metadata": {
    "collapsed": true,
    "ExecuteTime": {
     "end_time": "2023-12-04T06:24:29.923915200Z",
     "start_time": "2023-12-04T06:24:16.308305200Z"
    }
   },
   "outputs": [],
   "source": [
    "import logging\n",
    "\n",
    "from preprocess import get_data\n",
    "from embedding import get_embedding, clustering\n",
    "from visualize import create_histograms, create_similarity_matrix"
   ]
  },
  {
   "cell_type": "code",
   "execution_count": 2,
   "outputs": [],
   "source": [
    "LOG_LEVEL = logging.DEBUG"
   ],
   "metadata": {
    "collapsed": false,
    "ExecuteTime": {
     "end_time": "2023-12-04T06:24:29.943159Z",
     "start_time": "2023-12-04T06:24:29.923915200Z"
    }
   },
   "id": "9bea72e2fb873db2"
  },
  {
   "cell_type": "code",
   "execution_count": 3,
   "outputs": [],
   "source": [
    "# Set up logging configuration\n",
    "logging.basicConfig(level=LOG_LEVEL, format='%(levelname)s: %(message)s')"
   ],
   "metadata": {
    "collapsed": false,
    "ExecuteTime": {
     "end_time": "2023-12-04T06:24:29.955170300Z",
     "start_time": "2023-12-04T06:24:29.942648300Z"
    }
   },
   "id": "dbb1810b5227d8df"
  },
  {
   "cell_type": "code",
   "execution_count": 4,
   "outputs": [
    {
     "name": "stderr",
     "output_type": "stream",
     "text": [
      "INFO: The CSV already exists.\n",
      "INFO: Reading CSV.\n",
      "INFO:                                                title       categories  \\\n",
      "0  Calculation of prompt diphoton production cros...           hep-ph   \n",
      "1           Sparsity-certifying Graph Decompositions    math.CO cs.CG   \n",
      "2  The evolution of the Earth-Moon system based o...   physics.gen-ph   \n",
      "3  A determinant of Stirling cycle numbers counts...          math.CO   \n",
      "4  From dyadic $\\Lambda_{\\alpha}$ to $\\Lambda_{\\a...  math.CA math.FA   \n",
      "\n",
      "                                            abstract    versions  \n",
      "0  A fully differential calculation in perturbati...  2007-07-24  \n",
      "1  We describe a new algorithm, the $(k,\\ell)$-pe...  2008-12-13  \n",
      "2  The evolution of Earth-Moon system is describe...  2008-01-13  \n",
      "3  We show that a determinant of Stirling cycle n...  2007-03-31  \n",
      "4  In this paper we show how to compute the $\\Lam...  2007-04-02  \n"
     ]
    }
   ],
   "source": [
    "df = get_data()"
   ],
   "metadata": {
    "collapsed": false,
    "ExecuteTime": {
     "end_time": "2023-12-04T06:25:11.040660Z",
     "start_time": "2023-12-04T06:24:29.943159Z"
    }
   },
   "id": "39a3a946210f6897"
  },
  {
   "cell_type": "code",
   "execution_count": 9,
   "outputs": [
    {
     "data": {
      "text/plain": "'1986-04-25'"
     },
     "execution_count": 9,
     "metadata": {},
     "output_type": "execute_result"
    }
   ],
   "source": [
    "min(df[\"versions\"])"
   ],
   "metadata": {
    "collapsed": false,
    "ExecuteTime": {
     "end_time": "2023-12-04T06:44:13.920268Z",
     "start_time": "2023-12-04T06:44:13.590201800Z"
    }
   },
   "id": "e67f33477a9c4d5b"
  },
  {
   "cell_type": "code",
   "execution_count": null,
   "outputs": [],
   "source": [
    "corpus_embeddings = get_embedding(df, mode=\"categories\")"
   ],
   "metadata": {
    "collapsed": false
   },
   "id": "24362a06abebb315"
  },
  {
   "cell_type": "code",
   "execution_count": null,
   "outputs": [],
   "source": [
    "for i in range(5,11):\n",
    "    cluster_assignment = clustering(corpus_embeddings, num_clusters=i)\n",
    "    print(cluster_assignment)\n",
    "    np.save(f\"./clusters_cluster{i}.npy\", cluster_assignment, allow_pickle=True)\n",
    "    df[\"clustering-{}\".format(i)] = cluster_assignment\n",
    "    df.to_csv(\"arxiv-metadata-oai-snapshot-clustering-{}.csv\".format(i), index=False)"
   ],
   "metadata": {
    "collapsed": false
   },
   "id": "59fd51a7b552e503"
  },
  {
   "cell_type": "code",
   "execution_count": null,
   "outputs": [],
   "source": [
    "num_clusters = 10\n",
    "df = pd.read_csv(\"arxiv-metadata-oai-snapshot-clustering-{}.csv\".format(num_clusters))\n",
    "df"
   ],
   "metadata": {
    "collapsed": false
   },
   "id": "e820116294a236a3"
  },
  {
   "cell_type": "code",
   "execution_count": null,
   "outputs": [],
   "source": [
    "df[df[\"clustering-30\"] == 0]"
   ],
   "metadata": {
    "collapsed": false
   },
   "id": "685accef0cf2885d"
  },
  {
   "cell_type": "code",
   "execution_count": null,
   "outputs": [],
   "source": [
    "x = df['versions'].copy()\n",
    "for i in range(len(x)):\n",
    "    x[i] = int(x[i][:4])\n",
    "\n",
    "np.save(\"./years.npy\", x, allow_pickle=True)"
   ],
   "metadata": {
    "collapsed": false
   },
   "id": "4748e039f05715a8"
  },
  {
   "cell_type": "code",
   "execution_count": null,
   "outputs": [],
   "source": [
    "create_histograms(1970, 1980, top_k=5)"
   ],
   "metadata": {
    "collapsed": false
   },
   "id": "c3a54ae6949bbafb"
  },
  {
   "cell_type": "code",
   "execution_count": null,
   "outputs": [],
   "source": [
    "#similarity"
   ],
   "metadata": {
    "collapsed": false
   },
   "id": "c987c825d1a611ee"
  },
  {
   "cell_type": "code",
   "execution_count": null,
   "outputs": [],
   "source": [
    "category_list = []\n",
    "create_similarity_matrix(category_list)"
   ],
   "metadata": {
    "collapsed": false
   },
   "id": "initial_id"
  }
 ],
 "metadata": {
  "kernelspec": {
   "display_name": "Python 3",
   "language": "python",
   "name": "python3"
  },
  "language_info": {
   "codemirror_mode": {
    "name": "ipython",
    "version": 2
   },
   "file_extension": ".py",
   "mimetype": "text/x-python",
   "name": "python",
   "nbconvert_exporter": "python",
   "pygments_lexer": "ipython2",
   "version": "2.7.6"
  }
 },
 "nbformat": 4,
 "nbformat_minor": 5
}
