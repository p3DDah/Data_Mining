{
 "cells": [
  {
   "cell_type": "code",
   "execution_count": 6,
   "id": "57ee73d127d27174",
   "metadata": {
    "ExecuteTime": {
     "end_time": "2023-12-04T06:24:29.923915200Z",
     "start_time": "2023-12-04T06:24:16.308305200Z"
    },
    "collapsed": true
   },
   "outputs": [],
   "source": [
    "import logging\n",
    "\n",
    "from preprocess import get_data\n",
    "from embedding import get_embedding, clustering\n",
    "from visualize import create_histograms, create_similarity_matrix"
   ]
  },
  {
   "cell_type": "code",
   "execution_count": 7,
   "id": "9bea72e2fb873db2",
   "metadata": {
    "ExecuteTime": {
     "end_time": "2023-12-04T06:24:29.943159Z",
     "start_time": "2023-12-04T06:24:29.923915200Z"
    },
    "collapsed": false
   },
   "outputs": [],
   "source": [
    "LOG_LEVEL = logging.DEBUG"
   ]
  },
  {
   "cell_type": "code",
   "execution_count": 8,
   "id": "dbb1810b5227d8df",
   "metadata": {
    "ExecuteTime": {
     "end_time": "2023-12-04T06:24:29.955170300Z",
     "start_time": "2023-12-04T06:24:29.942648300Z"
    },
    "collapsed": false
   },
   "outputs": [],
   "source": [
    "# Set up logging configuration\n",
    "logging.basicConfig(level=LOG_LEVEL, format='%(levelname)s: %(message)s')"
   ]
  },
  {
   "cell_type": "code",
   "execution_count": 10,
   "id": "39a3a946210f6897",
   "metadata": {
    "ExecuteTime": {
     "end_time": "2023-12-04T06:25:11.040660Z",
     "start_time": "2023-12-04T06:24:29.943159Z"
    },
    "collapsed": false
   },
   "outputs": [
    {
     "name": "stderr",
     "output_type": "stream",
     "text": [
      "INFO: Creating CSV from JSON file.\n",
      "INFO: The JSON already exists.\n",
      "DEBUG: Read files from JSON.\n"
     ]
    },
    {
     "name": "stderr",
     "output_type": "stream",
     "text": [
      "DEBUG: Creating DataFrame.\n",
      "DEBUG: Clean text.\n",
      "DEBUG: Extract latest version and convert date format.\n",
      "DEBUG: Save DataFrame as CSV.\n",
      "INFO: Reading CSV.\n",
      "INFO:                                                title       categories  \\\n",
      "0  Calculation of prompt diphoton production cros...           hep-ph   \n",
      "1           Sparsity-certifying Graph Decompositions    math.CO cs.CG   \n",
      "2  The evolution of the Earth-Moon system based o...   physics.gen-ph   \n",
      "3  A determinant of Stirling cycle numbers counts...          math.CO   \n",
      "4  From dyadic $\\Lambda_{\\alpha}$ to $\\Lambda_{\\a...  math.CA math.FA   \n",
      "\n",
      "                                            abstract    versions  \n",
      "0  A fully differential calculation in perturbati...  2007-07-24  \n",
      "1  We describe a new algorithm, the $(k,\\ell)$-pe...  2008-12-13  \n",
      "2  The evolution of Earth-Moon system is describe...  2008-01-13  \n",
      "3  We show that a determinant of Stirling cycle n...  2007-03-31  \n",
      "4  In this paper we show how to compute the $\\Lam...  2007-04-02  \n"
     ]
    }
   ],
   "source": [
    "df = get_data()"
   ]
  },
  {
   "cell_type": "code",
   "execution_count": 11,
   "id": "e67f33477a9c4d5b",
   "metadata": {
    "ExecuteTime": {
     "end_time": "2023-12-04T06:44:13.920268Z",
     "start_time": "2023-12-04T06:44:13.590201800Z"
    },
    "collapsed": false
   },
   "outputs": [
    {
     "data": {
      "text/plain": [
       "'1986-04-25'"
      ]
     },
     "execution_count": 11,
     "metadata": {},
     "output_type": "execute_result"
    }
   ],
   "source": [
    "min(df[\"versions\"])"
   ]
  },
  {
   "cell_type": "code",
   "execution_count": 12,
   "id": "24362a06abebb315",
   "metadata": {
    "collapsed": false
   },
   "outputs": [
    {
     "name": "stderr",
     "output_type": "stream",
     "text": [
      "INFO: Load pretrained SentenceTransformer: all-MiniLM-L6-v2\n",
      "DEBUG: Starting new HTTPS connection (1): huggingface.co:443\n",
      "DEBUG: https://huggingface.co:443 \"GET /api/models/sentence-transformers/all-MiniLM-L6-v2 HTTP/1.1\" 200 12664\n",
      "DEBUG: https://huggingface.co:443 \"HEAD /sentence-transformers/all-MiniLM-L6-v2/resolve/7dbbc90392e2f80f3d3c277d6e90027e55de9125/.gitattributes HTTP/1.1\" 200 0\n",
      "DEBUG: Attempting to acquire lock 140028830581072 on /home/philipp/.cache/torch/sentence_transformers/sentence-transformers_all-MiniLM-L6-v2/.gitattributes.lock\n",
      "DEBUG: Lock 140028830581072 acquired on /home/philipp/.cache/torch/sentence_transformers/sentence-transformers_all-MiniLM-L6-v2/.gitattributes.lock\n",
      "DEBUG: https://huggingface.co:443 \"GET /sentence-transformers/all-MiniLM-L6-v2/resolve/7dbbc90392e2f80f3d3c277d6e90027e55de9125/.gitattributes HTTP/1.1\" 200 1175\n"
     ]
    },
    {
     "data": {
      "application/vnd.jupyter.widget-view+json": {
       "model_id": "6f4350b63614481dbfeac69709a00552",
       "version_major": 2,
       "version_minor": 0
      },
      "text/plain": [
       ".gitattributes:   0%|          | 0.00/1.18k [00:00<?, ?B/s]"
      ]
     },
     "metadata": {},
     "output_type": "display_data"
    },
    {
     "name": "stderr",
     "output_type": "stream",
     "text": [
      "DEBUG: Attempting to release lock 140028830581072 on /home/philipp/.cache/torch/sentence_transformers/sentence-transformers_all-MiniLM-L6-v2/.gitattributes.lock\n",
      "DEBUG: Lock 140028830581072 released on /home/philipp/.cache/torch/sentence_transformers/sentence-transformers_all-MiniLM-L6-v2/.gitattributes.lock\n",
      "DEBUG: https://huggingface.co:443 \"HEAD /sentence-transformers/all-MiniLM-L6-v2/resolve/7dbbc90392e2f80f3d3c277d6e90027e55de9125/1_Pooling/config.json HTTP/1.1\" 200 0\n",
      "DEBUG: Attempting to acquire lock 140029173492496 on /home/philipp/.cache/torch/sentence_transformers/sentence-transformers_all-MiniLM-L6-v2/1_Pooling/config.json.lock\n",
      "DEBUG: Lock 140029173492496 acquired on /home/philipp/.cache/torch/sentence_transformers/sentence-transformers_all-MiniLM-L6-v2/1_Pooling/config.json.lock\n",
      "DEBUG: https://huggingface.co:443 \"GET /sentence-transformers/all-MiniLM-L6-v2/resolve/7dbbc90392e2f80f3d3c277d6e90027e55de9125/1_Pooling/config.json HTTP/1.1\" 200 190\n"
     ]
    },
    {
     "data": {
      "application/vnd.jupyter.widget-view+json": {
       "model_id": "616d34fa3a2242ef8057f11a10581e3f",
       "version_major": 2,
       "version_minor": 0
      },
      "text/plain": [
       "1_Pooling/config.json:   0%|          | 0.00/190 [00:00<?, ?B/s]"
      ]
     },
     "metadata": {},
     "output_type": "display_data"
    },
    {
     "name": "stderr",
     "output_type": "stream",
     "text": [
      "DEBUG: Attempting to release lock 140029173492496 on /home/philipp/.cache/torch/sentence_transformers/sentence-transformers_all-MiniLM-L6-v2/1_Pooling/config.json.lock\n",
      "DEBUG: Lock 140029173492496 released on /home/philipp/.cache/torch/sentence_transformers/sentence-transformers_all-MiniLM-L6-v2/1_Pooling/config.json.lock\n",
      "DEBUG: https://huggingface.co:443 \"HEAD /sentence-transformers/all-MiniLM-L6-v2/resolve/7dbbc90392e2f80f3d3c277d6e90027e55de9125/README.md HTTP/1.1\" 200 0\n",
      "DEBUG: Attempting to acquire lock 140029173492496 on /home/philipp/.cache/torch/sentence_transformers/sentence-transformers_all-MiniLM-L6-v2/README.md.lock\n",
      "DEBUG: Lock 140029173492496 acquired on /home/philipp/.cache/torch/sentence_transformers/sentence-transformers_all-MiniLM-L6-v2/README.md.lock\n",
      "DEBUG: https://huggingface.co:443 \"GET /sentence-transformers/all-MiniLM-L6-v2/resolve/7dbbc90392e2f80f3d3c277d6e90027e55de9125/README.md HTTP/1.1\" 200 10610\n"
     ]
    },
    {
     "data": {
      "application/vnd.jupyter.widget-view+json": {
       "model_id": "d8ede1b1df634683aea9848703a39dc1",
       "version_major": 2,
       "version_minor": 0
      },
      "text/plain": [
       "README.md:   0%|          | 0.00/10.6k [00:00<?, ?B/s]"
      ]
     },
     "metadata": {},
     "output_type": "display_data"
    },
    {
     "name": "stderr",
     "output_type": "stream",
     "text": [
      "DEBUG: Attempting to release lock 140029173492496 on /home/philipp/.cache/torch/sentence_transformers/sentence-transformers_all-MiniLM-L6-v2/README.md.lock\n",
      "DEBUG: Lock 140029173492496 released on /home/philipp/.cache/torch/sentence_transformers/sentence-transformers_all-MiniLM-L6-v2/README.md.lock\n",
      "DEBUG: https://huggingface.co:443 \"HEAD /sentence-transformers/all-MiniLM-L6-v2/resolve/7dbbc90392e2f80f3d3c277d6e90027e55de9125/config.json HTTP/1.1\" 200 0\n",
      "DEBUG: Attempting to acquire lock 140029186183248 on /home/philipp/.cache/torch/sentence_transformers/sentence-transformers_all-MiniLM-L6-v2/config.json.lock\n",
      "DEBUG: Lock 140029186183248 acquired on /home/philipp/.cache/torch/sentence_transformers/sentence-transformers_all-MiniLM-L6-v2/config.json.lock\n",
      "DEBUG: https://huggingface.co:443 \"GET /sentence-transformers/all-MiniLM-L6-v2/resolve/7dbbc90392e2f80f3d3c277d6e90027e55de9125/config.json HTTP/1.1\" 200 612\n"
     ]
    },
    {
     "data": {
      "application/vnd.jupyter.widget-view+json": {
       "model_id": "68c05ede108845c58f74095d06b37bdd",
       "version_major": 2,
       "version_minor": 0
      },
      "text/plain": [
       "config.json:   0%|          | 0.00/612 [00:00<?, ?B/s]"
      ]
     },
     "metadata": {},
     "output_type": "display_data"
    },
    {
     "name": "stderr",
     "output_type": "stream",
     "text": [
      "DEBUG: Attempting to release lock 140029186183248 on /home/philipp/.cache/torch/sentence_transformers/sentence-transformers_all-MiniLM-L6-v2/config.json.lock\n",
      "DEBUG: Lock 140029186183248 released on /home/philipp/.cache/torch/sentence_transformers/sentence-transformers_all-MiniLM-L6-v2/config.json.lock\n",
      "DEBUG: https://huggingface.co:443 \"HEAD /sentence-transformers/all-MiniLM-L6-v2/resolve/7dbbc90392e2f80f3d3c277d6e90027e55de9125/config_sentence_transformers.json HTTP/1.1\" 200 0\n",
      "DEBUG: Attempting to acquire lock 140029171667984 on /home/philipp/.cache/torch/sentence_transformers/sentence-transformers_all-MiniLM-L6-v2/config_sentence_transformers.json.lock\n",
      "DEBUG: Lock 140029171667984 acquired on /home/philipp/.cache/torch/sentence_transformers/sentence-transformers_all-MiniLM-L6-v2/config_sentence_transformers.json.lock\n",
      "DEBUG: https://huggingface.co:443 \"GET /sentence-transformers/all-MiniLM-L6-v2/resolve/7dbbc90392e2f80f3d3c277d6e90027e55de9125/config_sentence_transformers.json HTTP/1.1\" 200 116\n"
     ]
    },
    {
     "data": {
      "application/vnd.jupyter.widget-view+json": {
       "model_id": "ca67b7d52af147e482774860f7069e3e",
       "version_major": 2,
       "version_minor": 0
      },
      "text/plain": [
       "config_sentence_transformers.json:   0%|          | 0.00/116 [00:00<?, ?B/s]"
      ]
     },
     "metadata": {},
     "output_type": "display_data"
    },
    {
     "name": "stderr",
     "output_type": "stream",
     "text": [
      "DEBUG: Attempting to release lock 140029171667984 on /home/philipp/.cache/torch/sentence_transformers/sentence-transformers_all-MiniLM-L6-v2/config_sentence_transformers.json.lock\n",
      "DEBUG: Lock 140029171667984 released on /home/philipp/.cache/torch/sentence_transformers/sentence-transformers_all-MiniLM-L6-v2/config_sentence_transformers.json.lock\n",
      "DEBUG: https://huggingface.co:443 \"HEAD /sentence-transformers/all-MiniLM-L6-v2/resolve/7dbbc90392e2f80f3d3c277d6e90027e55de9125/data_config.json HTTP/1.1\" 200 0\n",
      "DEBUG: Attempting to acquire lock 140029169275344 on /home/philipp/.cache/torch/sentence_transformers/sentence-transformers_all-MiniLM-L6-v2/data_config.json.lock\n",
      "DEBUG: Lock 140029169275344 acquired on /home/philipp/.cache/torch/sentence_transformers/sentence-transformers_all-MiniLM-L6-v2/data_config.json.lock\n",
      "DEBUG: https://huggingface.co:443 \"GET /sentence-transformers/all-MiniLM-L6-v2/resolve/7dbbc90392e2f80f3d3c277d6e90027e55de9125/data_config.json HTTP/1.1\" 200 39265\n"
     ]
    },
    {
     "data": {
      "application/vnd.jupyter.widget-view+json": {
       "model_id": "fd92dbbb134f4116bcae00ba6bfbbc91",
       "version_major": 2,
       "version_minor": 0
      },
      "text/plain": [
       "data_config.json:   0%|          | 0.00/39.3k [00:00<?, ?B/s]"
      ]
     },
     "metadata": {},
     "output_type": "display_data"
    },
    {
     "name": "stderr",
     "output_type": "stream",
     "text": [
      "DEBUG: Attempting to release lock 140029169275344 on /home/philipp/.cache/torch/sentence_transformers/sentence-transformers_all-MiniLM-L6-v2/data_config.json.lock\n",
      "DEBUG: Lock 140029169275344 released on /home/philipp/.cache/torch/sentence_transformers/sentence-transformers_all-MiniLM-L6-v2/data_config.json.lock\n",
      "DEBUG: https://huggingface.co:443 \"HEAD /sentence-transformers/all-MiniLM-L6-v2/resolve/7dbbc90392e2f80f3d3c277d6e90027e55de9125/pytorch_model.bin HTTP/1.1\" 302 0\n",
      "DEBUG: Attempting to acquire lock 140029185991504 on /home/philipp/.cache/torch/sentence_transformers/sentence-transformers_all-MiniLM-L6-v2/pytorch_model.bin.lock\n",
      "DEBUG: Lock 140029185991504 acquired on /home/philipp/.cache/torch/sentence_transformers/sentence-transformers_all-MiniLM-L6-v2/pytorch_model.bin.lock\n",
      "DEBUG: Starting new HTTPS connection (1): cdn-lfs.huggingface.co:443\n",
      "DEBUG: https://cdn-lfs.huggingface.co:443 \"GET /sentence-transformers/all-MiniLM-L6-v2/c3a85f238711653950f6a79ece63eb0ea93d76f6a6284be04019c53733baf256?response-content-disposition=attachment%3B+filename*%3DUTF-8%27%27pytorch_model.bin%3B+filename%3D%22pytorch_model.bin%22%3B&response-content-type=application%2Foctet-stream&Expires=1701934834&Policy=eyJTdGF0ZW1lbnQiOlt7IkNvbmRpdGlvbiI6eyJEYXRlTGVzc1RoYW4iOnsiQVdTOkVwb2NoVGltZSI6MTcwMTkzNDgzNH19LCJSZXNvdXJjZSI6Imh0dHBzOi8vY2RuLWxmcy5odWdnaW5nZmFjZS5jby9zZW50ZW5jZS10cmFuc2Zvcm1lcnMvYWxsLU1pbmlMTS1MNi12Mi9jM2E4NWYyMzg3MTE2NTM5NTBmNmE3OWVjZTYzZWIwZWE5M2Q3NmY2YTYyODRiZTA0MDE5YzUzNzMzYmFmMjU2P3Jlc3BvbnNlLWNvbnRlbnQtZGlzcG9zaXRpb249KiZyZXNwb25zZS1jb250ZW50LXR5cGU9KiJ9XX0_&Signature=gYJYURypBGgNDGcSkYJAA2wmz45sViugpaZzTZmiN46lATek2UdahzkwbHymyJB-JgwM8bTE4NPdthh7ijrtL6u6nZbuSFvxBIcy9rh1schn-OWpYu6-KMt-s6ZOiRkK4VnCftrJLvOMkLXKu3qR5R02xzUKKfY497hat7zbHbkiBG2-QmO9sDDBvB5-0dlTkMx-yfxj5eDhscDS3np3CZpM-0q-RwKSgMoFo2OC170sDl5ir8KTJS1v01BHPBj7U1vAm6T2Y1SXJNwS8k4adEUafbBuk030V3VZzRac4KjwKT5WwTBSwnfXMFSPR515KUsedkVFSAQc87DU9HyP~w__&Key-Pair-Id=KVTP0A1DKRTAX HTTP/1.1\" 200 90888945\n"
     ]
    },
    {
     "data": {
      "application/vnd.jupyter.widget-view+json": {
       "model_id": "c02ab6b439844b2da62a5bfe4a8c378a",
       "version_major": 2,
       "version_minor": 0
      },
      "text/plain": [
       "pytorch_model.bin:   0%|          | 0.00/90.9M [00:00<?, ?B/s]"
      ]
     },
     "metadata": {},
     "output_type": "display_data"
    },
    {
     "name": "stderr",
     "output_type": "stream",
     "text": [
      "DEBUG: Attempting to release lock 140029185991504 on /home/philipp/.cache/torch/sentence_transformers/sentence-transformers_all-MiniLM-L6-v2/pytorch_model.bin.lock\n",
      "DEBUG: Lock 140029185991504 released on /home/philipp/.cache/torch/sentence_transformers/sentence-transformers_all-MiniLM-L6-v2/pytorch_model.bin.lock\n",
      "DEBUG: https://huggingface.co:443 \"HEAD /sentence-transformers/all-MiniLM-L6-v2/resolve/7dbbc90392e2f80f3d3c277d6e90027e55de9125/sentence_bert_config.json HTTP/1.1\" 200 0\n",
      "DEBUG: Attempting to acquire lock 140028946250128 on /home/philipp/.cache/torch/sentence_transformers/sentence-transformers_all-MiniLM-L6-v2/sentence_bert_config.json.lock\n",
      "DEBUG: Lock 140028946250128 acquired on /home/philipp/.cache/torch/sentence_transformers/sentence-transformers_all-MiniLM-L6-v2/sentence_bert_config.json.lock\n",
      "DEBUG: https://huggingface.co:443 \"GET /sentence-transformers/all-MiniLM-L6-v2/resolve/7dbbc90392e2f80f3d3c277d6e90027e55de9125/sentence_bert_config.json HTTP/1.1\" 200 53\n"
     ]
    },
    {
     "data": {
      "application/vnd.jupyter.widget-view+json": {
       "model_id": "2aead8320615461f918b96ab0ebfc99d",
       "version_major": 2,
       "version_minor": 0
      },
      "text/plain": [
       "sentence_bert_config.json:   0%|          | 0.00/53.0 [00:00<?, ?B/s]"
      ]
     },
     "metadata": {},
     "output_type": "display_data"
    },
    {
     "name": "stderr",
     "output_type": "stream",
     "text": [
      "DEBUG: Attempting to release lock 140028946250128 on /home/philipp/.cache/torch/sentence_transformers/sentence-transformers_all-MiniLM-L6-v2/sentence_bert_config.json.lock\n",
      "DEBUG: Lock 140028946250128 released on /home/philipp/.cache/torch/sentence_transformers/sentence-transformers_all-MiniLM-L6-v2/sentence_bert_config.json.lock\n",
      "DEBUG: https://huggingface.co:443 \"HEAD /sentence-transformers/all-MiniLM-L6-v2/resolve/7dbbc90392e2f80f3d3c277d6e90027e55de9125/special_tokens_map.json HTTP/1.1\" 200 0\n",
      "DEBUG: Attempting to acquire lock 140029173856976 on /home/philipp/.cache/torch/sentence_transformers/sentence-transformers_all-MiniLM-L6-v2/special_tokens_map.json.lock\n",
      "DEBUG: Lock 140029173856976 acquired on /home/philipp/.cache/torch/sentence_transformers/sentence-transformers_all-MiniLM-L6-v2/special_tokens_map.json.lock\n",
      "DEBUG: https://huggingface.co:443 \"GET /sentence-transformers/all-MiniLM-L6-v2/resolve/7dbbc90392e2f80f3d3c277d6e90027e55de9125/special_tokens_map.json HTTP/1.1\" 200 112\n"
     ]
    },
    {
     "data": {
      "application/vnd.jupyter.widget-view+json": {
       "model_id": "41ae8e1722704eba98f09a83c52e9d4a",
       "version_major": 2,
       "version_minor": 0
      },
      "text/plain": [
       "special_tokens_map.json:   0%|          | 0.00/112 [00:00<?, ?B/s]"
      ]
     },
     "metadata": {},
     "output_type": "display_data"
    },
    {
     "name": "stderr",
     "output_type": "stream",
     "text": [
      "DEBUG: Attempting to release lock 140029173856976 on /home/philipp/.cache/torch/sentence_transformers/sentence-transformers_all-MiniLM-L6-v2/special_tokens_map.json.lock\n",
      "DEBUG: Lock 140029173856976 released on /home/philipp/.cache/torch/sentence_transformers/sentence-transformers_all-MiniLM-L6-v2/special_tokens_map.json.lock\n",
      "DEBUG: https://huggingface.co:443 \"HEAD /sentence-transformers/all-MiniLM-L6-v2/resolve/7dbbc90392e2f80f3d3c277d6e90027e55de9125/tokenizer.json HTTP/1.1\" 200 0\n",
      "DEBUG: Attempting to acquire lock 140029186188176 on /home/philipp/.cache/torch/sentence_transformers/sentence-transformers_all-MiniLM-L6-v2/tokenizer.json.lock\n",
      "DEBUG: Lock 140029186188176 acquired on /home/philipp/.cache/torch/sentence_transformers/sentence-transformers_all-MiniLM-L6-v2/tokenizer.json.lock\n",
      "DEBUG: https://huggingface.co:443 \"GET /sentence-transformers/all-MiniLM-L6-v2/resolve/7dbbc90392e2f80f3d3c277d6e90027e55de9125/tokenizer.json HTTP/1.1\" 200 466247\n"
     ]
    },
    {
     "data": {
      "application/vnd.jupyter.widget-view+json": {
       "model_id": "63a37b02160f4d0e97266985cef0f31f",
       "version_major": 2,
       "version_minor": 0
      },
      "text/plain": [
       "tokenizer.json:   0%|          | 0.00/466k [00:00<?, ?B/s]"
      ]
     },
     "metadata": {},
     "output_type": "display_data"
    },
    {
     "name": "stderr",
     "output_type": "stream",
     "text": [
      "DEBUG: Attempting to release lock 140029186188176 on /home/philipp/.cache/torch/sentence_transformers/sentence-transformers_all-MiniLM-L6-v2/tokenizer.json.lock\n",
      "DEBUG: Lock 140029186188176 released on /home/philipp/.cache/torch/sentence_transformers/sentence-transformers_all-MiniLM-L6-v2/tokenizer.json.lock\n",
      "DEBUG: https://huggingface.co:443 \"HEAD /sentence-transformers/all-MiniLM-L6-v2/resolve/7dbbc90392e2f80f3d3c277d6e90027e55de9125/tokenizer_config.json HTTP/1.1\" 200 0\n",
      "DEBUG: Attempting to acquire lock 140028898909968 on /home/philipp/.cache/torch/sentence_transformers/sentence-transformers_all-MiniLM-L6-v2/tokenizer_config.json.lock\n",
      "DEBUG: Lock 140028898909968 acquired on /home/philipp/.cache/torch/sentence_transformers/sentence-transformers_all-MiniLM-L6-v2/tokenizer_config.json.lock\n",
      "DEBUG: https://huggingface.co:443 \"GET /sentence-transformers/all-MiniLM-L6-v2/resolve/7dbbc90392e2f80f3d3c277d6e90027e55de9125/tokenizer_config.json HTTP/1.1\" 200 350\n"
     ]
    },
    {
     "data": {
      "application/vnd.jupyter.widget-view+json": {
       "model_id": "1e4535a3d177403fbb904192e9e6c7a9",
       "version_major": 2,
       "version_minor": 0
      },
      "text/plain": [
       "tokenizer_config.json:   0%|          | 0.00/350 [00:00<?, ?B/s]"
      ]
     },
     "metadata": {},
     "output_type": "display_data"
    },
    {
     "name": "stderr",
     "output_type": "stream",
     "text": [
      "DEBUG: Attempting to release lock 140028898909968 on /home/philipp/.cache/torch/sentence_transformers/sentence-transformers_all-MiniLM-L6-v2/tokenizer_config.json.lock\n",
      "DEBUG: Lock 140028898909968 released on /home/philipp/.cache/torch/sentence_transformers/sentence-transformers_all-MiniLM-L6-v2/tokenizer_config.json.lock\n",
      "DEBUG: https://huggingface.co:443 \"HEAD /sentence-transformers/all-MiniLM-L6-v2/resolve/7dbbc90392e2f80f3d3c277d6e90027e55de9125/train_script.py HTTP/1.1\" 200 0\n",
      "DEBUG: Attempting to acquire lock 140025854360144 on /home/philipp/.cache/torch/sentence_transformers/sentence-transformers_all-MiniLM-L6-v2/train_script.py.lock\n",
      "DEBUG: Lock 140025854360144 acquired on /home/philipp/.cache/torch/sentence_transformers/sentence-transformers_all-MiniLM-L6-v2/train_script.py.lock\n",
      "DEBUG: https://huggingface.co:443 \"GET /sentence-transformers/all-MiniLM-L6-v2/resolve/7dbbc90392e2f80f3d3c277d6e90027e55de9125/train_script.py HTTP/1.1\" 200 13156\n"
     ]
    },
    {
     "data": {
      "application/vnd.jupyter.widget-view+json": {
       "model_id": "7472ac979bbe4bec97cbf7891546a454",
       "version_major": 2,
       "version_minor": 0
      },
      "text/plain": [
       "train_script.py:   0%|          | 0.00/13.2k [00:00<?, ?B/s]"
      ]
     },
     "metadata": {},
     "output_type": "display_data"
    },
    {
     "name": "stderr",
     "output_type": "stream",
     "text": [
      "DEBUG: Attempting to release lock 140025854360144 on /home/philipp/.cache/torch/sentence_transformers/sentence-transformers_all-MiniLM-L6-v2/train_script.py.lock\n",
      "DEBUG: Lock 140025854360144 released on /home/philipp/.cache/torch/sentence_transformers/sentence-transformers_all-MiniLM-L6-v2/train_script.py.lock\n",
      "DEBUG: https://huggingface.co:443 \"HEAD /sentence-transformers/all-MiniLM-L6-v2/resolve/7dbbc90392e2f80f3d3c277d6e90027e55de9125/vocab.txt HTTP/1.1\" 200 0\n",
      "DEBUG: Attempting to acquire lock 140029174145360 on /home/philipp/.cache/torch/sentence_transformers/sentence-transformers_all-MiniLM-L6-v2/vocab.txt.lock\n",
      "DEBUG: Lock 140029174145360 acquired on /home/philipp/.cache/torch/sentence_transformers/sentence-transformers_all-MiniLM-L6-v2/vocab.txt.lock\n",
      "DEBUG: https://huggingface.co:443 \"GET /sentence-transformers/all-MiniLM-L6-v2/resolve/7dbbc90392e2f80f3d3c277d6e90027e55de9125/vocab.txt HTTP/1.1\" 200 231508\n"
     ]
    },
    {
     "data": {
      "application/vnd.jupyter.widget-view+json": {
       "model_id": "7b2215982d574f92a5fe21fe97952f12",
       "version_major": 2,
       "version_minor": 0
      },
      "text/plain": [
       "vocab.txt:   0%|          | 0.00/232k [00:00<?, ?B/s]"
      ]
     },
     "metadata": {},
     "output_type": "display_data"
    },
    {
     "name": "stderr",
     "output_type": "stream",
     "text": [
      "DEBUG: Attempting to release lock 140029174145360 on /home/philipp/.cache/torch/sentence_transformers/sentence-transformers_all-MiniLM-L6-v2/vocab.txt.lock\n",
      "DEBUG: Lock 140029174145360 released on /home/philipp/.cache/torch/sentence_transformers/sentence-transformers_all-MiniLM-L6-v2/vocab.txt.lock\n",
      "DEBUG: https://huggingface.co:443 \"HEAD /sentence-transformers/all-MiniLM-L6-v2/resolve/7dbbc90392e2f80f3d3c277d6e90027e55de9125/modules.json HTTP/1.1\" 200 0\n",
      "DEBUG: Attempting to acquire lock 140029173768784 on /home/philipp/.cache/torch/sentence_transformers/sentence-transformers_all-MiniLM-L6-v2/modules.json.lock\n",
      "DEBUG: Lock 140029173768784 acquired on /home/philipp/.cache/torch/sentence_transformers/sentence-transformers_all-MiniLM-L6-v2/modules.json.lock\n",
      "DEBUG: https://huggingface.co:443 \"GET /sentence-transformers/all-MiniLM-L6-v2/resolve/7dbbc90392e2f80f3d3c277d6e90027e55de9125/modules.json HTTP/1.1\" 200 349\n"
     ]
    },
    {
     "data": {
      "application/vnd.jupyter.widget-view+json": {
       "model_id": "3d45f56ee368480b8bc9f1b6734270f2",
       "version_major": 2,
       "version_minor": 0
      },
      "text/plain": [
       "modules.json:   0%|          | 0.00/349 [00:00<?, ?B/s]"
      ]
     },
     "metadata": {},
     "output_type": "display_data"
    },
    {
     "name": "stderr",
     "output_type": "stream",
     "text": [
      "DEBUG: Attempting to release lock 140029173768784 on /home/philipp/.cache/torch/sentence_transformers/sentence-transformers_all-MiniLM-L6-v2/modules.json.lock\n",
      "DEBUG: Lock 140029173768784 released on /home/philipp/.cache/torch/sentence_transformers/sentence-transformers_all-MiniLM-L6-v2/modules.json.lock\n",
      "INFO: Use pytorch device: cuda\n",
      "INFO: Creating CSV from JSON file.\n"
     ]
    },
    {
     "data": {
      "application/vnd.jupyter.widget-view+json": {
       "model_id": "76d973cb10e844b4a11981bd95b2eabf",
       "version_major": 2,
       "version_minor": 0
      },
      "text/plain": [
       "Batches:   0%|          | 0/73975 [00:00<?, ?it/s]"
      ]
     },
     "metadata": {},
     "output_type": "display_data"
    },
    {
     "name": "stderr",
     "output_type": "stream",
     "text": [
      "DEBUG: (2367176, 384)\n"
     ]
    }
   ],
   "source": [
    "corpus_embeddings = get_embedding(df, mode=\"categories\")"
   ]
  },
  {
   "cell_type": "code",
   "execution_count": 14,
   "id": "59fd51a7b552e503",
   "metadata": {
    "collapsed": false
   },
   "outputs": [
    {
     "name": "stderr",
     "output_type": "stream",
     "text": [
      "Clustering Progress:   0%|                                                                                                        | 0/45 [00:00<?, ?it/s]INFO: Start KMeans\n",
      "/home/philipp/anaconda3/envs/book/lib/python3.11/site-packages/sklearn/cluster/_kmeans.py:1416: FutureWarning: The default value of `n_init` will change from 10 to 'auto' in 1.4. Set the value of `n_init` explicitly to suppress the warning\n",
      "  super()._check_params_vs_input(X, default_n_init=10)\n"
     ]
    }
   ],
   "source": [
    "from tqdm import tqdm\n",
    "import numpy as np\n",
    "\n",
    "for i in tqdm(range(5, 50), desc=\"Clustering Progress\"):\n",
    "    cluster_assignment = clustering(corpus_embeddings, num_clusters=i)\n",
    "    print(cluster_assignment)\n",
    "    np.save(f\"./clusters_cluster{i}.npy\", cluster_assignment, allow_pickle=True)\n",
    "    df[\"clustering-{}\".format(i)] = cluster_assignment\n",
    "    df.to_csv(\"arxiv-metadata-oai-snapshot-clustering-{}.csv\".format(i), index=False)"
   ]
  },
  {
   "cell_type": "code",
   "execution_count": null,
   "id": "e820116294a236a3",
   "metadata": {
    "collapsed": false
   },
   "outputs": [],
   "source": [
    "num_clusters = 10\n",
    "df = pd.read_csv(\"arxiv-metadata-oai-snapshot-clustering-{}.csv\".format(num_clusters))\n",
    "df"
   ]
  },
  {
   "cell_type": "code",
   "execution_count": null,
   "id": "685accef0cf2885d",
   "metadata": {
    "collapsed": false
   },
   "outputs": [],
   "source": [
    "df[df[\"clustering-30\"] == 0]"
   ]
  },
  {
   "cell_type": "code",
   "execution_count": null,
   "id": "4748e039f05715a8",
   "metadata": {
    "collapsed": false
   },
   "outputs": [],
   "source": [
    "x = df['versions'].copy()\n",
    "for i in range(len(x)):\n",
    "    x[i] = int(x[i][:4])\n",
    "\n",
    "np.save(\"./years.npy\", x, allow_pickle=True)"
   ]
  },
  {
   "cell_type": "code",
   "execution_count": null,
   "id": "c3a54ae6949bbafb",
   "metadata": {
    "collapsed": false
   },
   "outputs": [],
   "source": [
    "create_histograms(1970, 1980, top_k=5)"
   ]
  },
  {
   "cell_type": "code",
   "execution_count": null,
   "id": "c987c825d1a611ee",
   "metadata": {
    "collapsed": false
   },
   "outputs": [],
   "source": [
    "#similarity"
   ]
  },
  {
   "cell_type": "code",
   "execution_count": null,
   "id": "initial_id",
   "metadata": {
    "collapsed": false
   },
   "outputs": [],
   "source": [
    "category_list = []\n",
    "create_similarity_matrix(category_list)"
   ]
  }
 ],
 "metadata": {
  "kernelspec": {
   "display_name": "Python 3 (ipykernel)",
   "language": "python",
   "name": "python3"
  },
  "language_info": {
   "codemirror_mode": {
    "name": "ipython",
    "version": 3
   },
   "file_extension": ".py",
   "mimetype": "text/x-python",
   "name": "python",
   "nbconvert_exporter": "python",
   "pygments_lexer": "ipython3",
   "version": "3.11.5"
  }
 },
 "nbformat": 4,
 "nbformat_minor": 5
}
