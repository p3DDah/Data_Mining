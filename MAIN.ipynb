{
 "cells": [
  {
   "cell_type": "code",
   "execution_count": 1,
   "id": "57ee73d127d27174",
   "metadata": {
    "ExecuteTime": {
     "end_time": "2023-12-04T06:24:29.923915200Z",
     "start_time": "2023-12-04T06:24:16.308305200Z"
    },
    "collapsed": true
   },
   "outputs": [],
   "source": [
    "import logging\n",
    "\n",
    "from preprocess import get_data\n",
    "from embedding import get_embedding, clustering\n",
    "from visualize import create_histograms, create_similarity_matrix"
   ]
  },
  {
   "cell_type": "code",
   "execution_count": 2,
   "id": "9bea72e2fb873db2",
   "metadata": {
    "ExecuteTime": {
     "end_time": "2023-12-04T06:24:29.943159Z",
     "start_time": "2023-12-04T06:24:29.923915200Z"
    },
    "collapsed": false
   },
   "outputs": [],
   "source": [
    "LOG_LEVEL = logging.DEBUG"
   ]
  },
  {
   "cell_type": "code",
   "execution_count": 3,
   "id": "dbb1810b5227d8df",
   "metadata": {
    "ExecuteTime": {
     "end_time": "2023-12-04T06:24:29.955170300Z",
     "start_time": "2023-12-04T06:24:29.942648300Z"
    },
    "collapsed": false
   },
   "outputs": [],
   "source": [
    "# Set up logging configuration\n",
    "logging.basicConfig(level=LOG_LEVEL, format='%(levelname)s: %(message)s')"
   ]
  },
  {
   "cell_type": "code",
   "execution_count": 4,
   "id": "39a3a946210f6897",
   "metadata": {
    "ExecuteTime": {
     "end_time": "2023-12-04T06:25:11.040660Z",
     "start_time": "2023-12-04T06:24:29.943159Z"
    },
    "collapsed": false
   },
   "outputs": [
    {
     "name": "stderr",
     "output_type": "stream",
     "text": [
      "INFO: The CSV already exists.\n",
      "INFO: Reading CSV.\n",
      "INFO:                                                title       categories  \\\n",
      "0  Calculation of prompt diphoton production cros...           hep-ph   \n",
      "1           Sparsity-certifying Graph Decompositions    math.CO cs.CG   \n",
      "2  The evolution of the Earth-Moon system based o...   physics.gen-ph   \n",
      "3  A determinant of Stirling cycle numbers counts...          math.CO   \n",
      "4  From dyadic $\\Lambda_{\\alpha}$ to $\\Lambda_{\\a...  math.CA math.FA   \n",
      "\n",
      "                                            abstract    versions  \n",
      "0  A fully differential calculation in perturbati...  2007-07-24  \n",
      "1  We describe a new algorithm, the $(k,\\ell)$-pe...  2008-12-13  \n",
      "2  The evolution of Earth-Moon system is describe...  2008-01-13  \n",
      "3  We show that a determinant of Stirling cycle n...  2007-03-31  \n",
      "4  In this paper we show how to compute the $\\Lam...  2007-04-02  \n"
     ]
    }
   ],
   "source": [
    "df = get_data()"
   ]
  },
  {
   "cell_type": "code",
   "execution_count": 5,
   "id": "e67f33477a9c4d5b",
   "metadata": {
    "ExecuteTime": {
     "end_time": "2023-12-04T06:44:13.920268Z",
     "start_time": "2023-12-04T06:44:13.590201800Z"
    },
    "collapsed": false
   },
   "outputs": [
    {
     "data": {
      "text/plain": [
       "'1986-04-25'"
      ]
     },
     "execution_count": 5,
     "metadata": {},
     "output_type": "execute_result"
    }
   ],
   "source": [
    "min(df[\"versions\"])"
   ]
  },
  {
   "cell_type": "code",
   "execution_count": 6,
   "id": "24362a06abebb315",
   "metadata": {
    "collapsed": false
   },
   "outputs": [
    {
     "name": "stderr",
     "output_type": "stream",
     "text": [
      "INFO: Load pretrained SentenceTransformer: all-MiniLM-L6-v2\n",
      "INFO: Use pytorch device: cuda\n",
      "INFO: The embeddings file already exists.\n",
      "DEBUG: (2367176, 384)\n"
     ]
    }
   ],
   "source": [
    "corpus_embeddings, category_names = get_embedding(df, mode=\"categories\")"
   ]
  },
  {
   "cell_type": "code",
   "execution_count": 7,
   "metadata": {},
   "outputs": [
    {
     "name": "stderr",
     "output_type": "stream",
     "text": [
      "INFO: Start KMeans\n",
      "/home/philipp/anaconda3/envs/book/lib/python3.11/site-packages/sklearn/cluster/_kmeans.py:1416: FutureWarning: The default value of `n_init` will change from 10 to 'auto' in 1.4. Set the value of `n_init` explicitly to suppress the warning\n",
      "  super()._check_params_vs_input(X, default_n_init=10)\n"
     ]
    }
   ],
   "source": [
    "clustering(corpus_embeddings, num_clusters=1)"
   ]
  },
  {
   "cell_type": "code",
   "execution_count": null,
   "id": "59fd51a7b552e503",
   "metadata": {
    "collapsed": false
   },
   "outputs": [],
   "source": [
    "dawda\n",
    "from tqdm import tqdm\n",
    "import numpy as np\n",
    "\n",
    "for i in tqdm(range(5, 50, 5), desc=\"Clustering Progress\"):\n",
    "    cluster_assignment = clustering(corpus_embeddings, num_clusters=i)\n",
    "    print(cluster_assignment)\n",
    "    np.save(f\"./clusters_cluster{i}.npy\", cluster_assignment, allow_pickle=True)\n",
    "    df[\"clustering-{}\".format(i)] = cluster_assignment\n",
    "    df.to_csv(\"arxiv-metadata-oai-snapshot-clustering-{}.csv\".format(i), index=False)"
   ]
  },
  {
   "cell_type": "code",
   "execution_count": null,
   "id": "e820116294a236a3",
   "metadata": {
    "collapsed": false
   },
   "outputs": [],
   "source": [
    "import pandas as pd\n",
    "num_clusters = 10\n",
    "df = pd.read_csv(\"arxiv-metadata-oai-snapshot-clustering-{}.csv\".format(num_clusters))\n",
    "df"
   ]
  },
  {
   "cell_type": "code",
   "execution_count": null,
   "id": "685accef0cf2885d",
   "metadata": {
    "collapsed": false
   },
   "outputs": [],
   "source": [
    "df[df[\"clustering-30\"] == 0]"
   ]
  },
  {
   "cell_type": "code",
   "execution_count": null,
   "id": "4748e039f05715a8",
   "metadata": {
    "collapsed": false
   },
   "outputs": [],
   "source": [
    "x = df['versions'].copy()\n",
    "for i in range(len(x)):\n",
    "    x[i] = int(x[i][:4])\n",
    "\n",
    "np.save(\"./years.npy\", x, allow_pickle=True)"
   ]
  },
  {
   "cell_type": "code",
   "execution_count": null,
   "id": "c3a54ae6949bbafb",
   "metadata": {
    "collapsed": false
   },
   "outputs": [],
   "source": [
    "create_histograms(1970, 1980, top_k=5)"
   ]
  },
  {
   "cell_type": "code",
   "execution_count": null,
   "id": "c987c825d1a611ee",
   "metadata": {
    "collapsed": false
   },
   "outputs": [],
   "source": [
    "#similarity"
   ]
  },
  {
   "cell_type": "code",
   "execution_count": null,
   "id": "initial_id",
   "metadata": {
    "collapsed": false
   },
   "outputs": [],
   "source": [
    "category_list = []\n",
    "create_similarity_matrix(category_list)"
   ]
  }
 ],
 "metadata": {
  "kernelspec": {
   "display_name": "Python 3 (ipykernel)",
   "language": "python",
   "name": "python3"
  }
 },
 "nbformat": 4,
 "nbformat_minor": 5
}
