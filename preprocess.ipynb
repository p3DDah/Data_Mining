{
 "cells": [
  {
   "cell_type": "code",
   "execution_count": 1,
   "id": "4cb49438",
   "metadata": {},
   "outputs": [],
   "source": [
    "import os\n",
    "import pandas as pd\n",
    "from preprocess import get_csv"
   ]
  },
  {
   "cell_type": "code",
   "execution_count": null,
   "id": "7719347a5ce93353",
   "metadata": {
    "ExecuteTime": {
     "end_time": "2023-11-22T17:02:06.371467800Z",
     "start_time": "2023-11-22T17:02:06.307798600Z"
    },
    "collapsed": false
   },
   "outputs": [],
   "source": [
    "# Set the file path for your CSV file\n",
    "file_path = 'arxiv-metadata-oai-snapshot.csv'\n",
    "\n",
    "# Check if the file exists\n",
    "if not os.path.exists(file_path):\n",
    "    # If the file does not exist, call the get_csv method\n",
    "    print(\"Creating CSV from JSON file.\")\n",
    "    get_csv()\n",
    "else:\n",
    "    print(\"The file already exists.\")"
   ]
  },
  {
   "cell_type": "code",
   "execution_count": null,
   "id": "74d3971c82814c00",
   "metadata": {
    "ExecuteTime": {
     "end_time": "2023-11-22T17:05:02.102669100Z",
     "start_time": "2023-11-22T17:03:42.054166200Z"
    },
    "collapsed": false
   },
   "outputs": [],
   "source": [
    "# Read the CSV file into a DataFrame\n",
    "df = pd.read_csv(file_path)\n",
    "\n",
    "# Display the first few rows of the DataFrame to confirm it's loaded correctly\n",
    "print(df.head())"
   ]
  }
 ],
 "metadata": {
  "kernelspec": {
   "display_name": "Python 3 (ipykernel)",
   "language": "python",
   "name": "python3"
  },
  "language_info": {
   "codemirror_mode": {
    "name": "ipython",
    "version": 3
   },
   "file_extension": ".py",
   "mimetype": "text/x-python",
   "name": "python",
   "nbconvert_exporter": "python",
   "pygments_lexer": "ipython3",
   "version": "3.8.16"
  }
 },
 "nbformat": 4,
 "nbformat_minor": 5
}
