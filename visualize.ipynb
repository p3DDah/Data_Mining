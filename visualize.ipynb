{
 "cells": [
  {
   "cell_type": "code",
   "execution_count": 14,
   "id": "initial_id",
   "metadata": {
    "collapsed": true,
    "ExecuteTime": {
     "end_time": "2023-11-29T12:12:01.508609800Z",
     "start_time": "2023-11-29T12:12:01.469487Z"
    }
   },
   "outputs": [],
   "source": [
    "import pandas as pd\n",
    "import matplotlib.pyplot as plt\n",
    "from mpl_toolkits.mplot3d import Axes3D\n",
    "import numpy as np\n",
    "import seaborn as sns\n",
    "import os\n",
    "import logging"
   ]
  },
  {
   "cell_type": "code",
   "execution_count": 15,
   "outputs": [],
   "source": [
    "def load_data(file_path):\n",
    "    \"\"\"Loads data from a CSV file.\"\"\"\n",
    "    try:\n",
    "        data = pd.read_csv(file_path, index_col=0)\n",
    "        logging.info(\"Data loaded successfully.\")\n",
    "        return data\n",
    "    except Exception as e:\n",
    "        logging.error(f\"Error loading data: {e}\")\n",
    "        return None"
   ],
   "metadata": {
    "collapsed": false,
    "ExecuteTime": {
     "end_time": "2023-11-29T12:12:01.508609800Z",
     "start_time": "2023-11-29T12:12:01.477965100Z"
    }
   },
   "id": "f211cd25ed708a37"
  },
  {
   "cell_type": "code",
   "execution_count": 16,
   "outputs": [],
   "source": [
    "def create_histograms(start_year, end_year, top_k=5):\n",
    "    data = load_data(\"EXAMPLE_categories_dataset.csv\")\n",
    "    output_folder = \"Histograms/2D\"\n",
    "    output_folder_3d = \"Histograms/3D\"\n",
    "    \n",
    "    # Filter the data for the specified year range\n",
    "    data = data.loc[:, str(start_year):str(end_year)]\n",
    "    \n",
    "    \"\"\"Creates histograms for each category in the data.\"\"\"\n",
    "    if data is None:\n",
    "        logging.error(\"Data not loaded. Cannot create histograms.\")\n",
    "        return\n",
    "\n",
    "    if not os.path.exists(output_folder):\n",
    "        os.makedirs(output_folder)\n",
    "        logging.info(f\"Created output folder: {output_folder}\")\n",
    "    if not os.path.exists(output_folder_3d):\n",
    "        os.makedirs(output_folder_3d)\n",
    "        logging.info(f\"Created output folder: {output_folder_3d}\")\n",
    "\n",
    "    for category in data.index:\n",
    "        plt.figure()\n",
    "        data.loc[category].plot(kind='bar')\n",
    "        plt.title(f\"Histogram of {category}\")\n",
    "        plt.xlabel(\"Year\")\n",
    "        plt.ylabel(\"Frequency\")\n",
    "        output_path = os.path.join(output_folder, f\"{category}.png\")\n",
    "        plt.savefig(output_path)\n",
    "        logging.info(f\"Saved histogram for {category} in {output_path}\")\n",
    "        plt.close()\n",
    "        \n",
    "    # Creating 3D histogram for top 10 categories\n",
    "    top_categories = data.mean(axis=1).nlargest(top_k).index\n",
    "    fig = plt.figure()\n",
    "    ax = fig.add_subplot(111, projection='3d')\n",
    "    \n",
    "    # Calculate the positions for the y-ticks\n",
    "    y_tick_positions = np.arange(len(top_categories))\n",
    "\n",
    "    for i, category in enumerate(top_categories):\n",
    "        xs = np.arange(data.shape[1])\n",
    "        ys = data.loc[category]\n",
    "        ax.bar(xs, ys, zs=y_tick_positions[i], zdir='y', alpha=0.8)\n",
    "\n",
    "    ax.set_xlabel('Year', labelpad=10)\n",
    "    ax.set_ylabel('Category', labelpad=20)\n",
    "    ax.set_zlabel('Frequency', labelpad=10)\n",
    "    ax.set_yticks(np.arange(5))\n",
    "    ax.set_yticklabels(top_categories)\n",
    "    plt.title(f\"Top {top_k} Categories\")\n",
    "\n",
    "    output_path_3d = os.path.join(output_folder_3d, f\"3d_histogram_top_k{top_k}_categories.png\")\n",
    "    plt.savefig(output_path_3d)\n",
    "    logging.info(f\"Saved 3D histogram for top 10 categories in {output_path_3d}\")\n",
    "    plt.close()"
   ],
   "metadata": {
    "collapsed": false,
    "ExecuteTime": {
     "end_time": "2023-11-29T12:12:01.532916300Z",
     "start_time": "2023-11-29T12:12:01.478471Z"
    }
   },
   "id": "d7692b662dd580f"
  },
  {
   "cell_type": "code",
   "execution_count": 29,
   "outputs": [],
   "source": [
    "def create_similarity_matrix(category_list = []):\n",
    "    \"\"\"\n",
    "    Creates and saves a similarity matrix (heatmap) from the DataFrame to a specified folder.\n",
    "    \"\"\"\n",
    "    data = load_data(\"EXAMPLE_category_similarity_dataset.csv\")\n",
    "    folder_name = \"Matrix\"\n",
    "\n",
    "    # Create the folder if it doesn't exist\n",
    "    if not os.path.exists(folder_name):\n",
    "        os.makedirs(folder_name)\n",
    "    \n",
    "    # Filter data for specified categories\n",
    "    data = data.loc[category_list, category_list] if category_list != [] else data\n",
    "    \n",
    "    # Check if the data is a square matrix\n",
    "    if data.shape[0] != data.shape[1]:\n",
    "        logging.info(\"Data is not in the correct format. It should be a square matrix.\")\n",
    "        return\n",
    "    \n",
    "    # Reverse the order of the columns\n",
    "    data = data[data.columns[::-1]]\n",
    "\n",
    "    plt.figure()\n",
    "    heatmap = sns.heatmap(data, annot=True, cmap='PiYG')\n",
    "    plt.title(\"Category Similarity Matrix\")\n",
    "    plt.tight_layout()\n",
    "\n",
    "    # Save the matrix to the specified folder\n",
    "    save_path = os.path.join(folder_name, 'similarity_matrix.png')\n",
    "    heatmap.figure.savefig(save_path)\n",
    "    logging.info(f\"Similarity matrix saved to {save_path}\")\n",
    "\n",
    "    # Optionally, display the matrix\n",
    "    plt.show()"
   ],
   "metadata": {
    "collapsed": false,
    "ExecuteTime": {
     "end_time": "2023-11-29T12:22:15.322901700Z",
     "start_time": "2023-11-29T12:22:15.317393500Z"
    }
   },
   "id": "ee163211d5e59999"
  },
  {
   "cell_type": "code",
   "execution_count": 31,
   "outputs": [
    {
     "data": {
      "text/plain": "<Figure size 640x480 with 2 Axes>",
      "image/png": "[encoded data removed]"
     },
     "metadata": {},
     "output_type": "display_data"
    }
   ],
   "source": [
    "create_histograms(1970,1980, top_k=5)\n",
    "category_list = ['category_1', 'category_3', 'category_5']\n",
    "create_similarity_matrix(category_list)"
   ],
   "metadata": {
    "collapsed": false,
    "ExecuteTime": {
     "end_time": "2023-11-29T12:22:55.362533100Z",
     "start_time": "2023-11-29T12:22:55.036008700Z"
    }
   },
   "id": "75625d8775b4da8c"
  },
  {
   "cell_type": "code",
   "execution_count": 18,
   "outputs": [],
   "source": [],
   "metadata": {
    "collapsed": false,
    "ExecuteTime": {
     "end_time": "2023-11-29T12:12:02.419702700Z",
     "start_time": "2023-11-29T12:12:02.409743300Z"
    }
   },
   "id": "f8cd3ec3a6861866"
  }
 ],
 "metadata": {
  "kernelspec": {
   "display_name": "Python 3",
   "language": "python",
   "name": "python3"
  },
  "language_info": {
   "codemirror_mode": {
    "name": "ipython",
    "version": 2
   },
   "file_extension": ".py",
   "mimetype": "text/x-python",
   "name": "python",
   "nbconvert_exporter": "python",
   "pygments_lexer": "ipython2",
   "version": "2.7.6"
  }
 },
 "nbformat": 4,
 "nbformat_minor": 5
}
