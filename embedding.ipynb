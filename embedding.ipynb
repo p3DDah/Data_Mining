{
 "cells": [
  {
   "cell_type": "code",
   "execution_count": null,
   "id": "initial_id",
   "metadata": {
    "collapsed": true
   },
   "outputs": [],
   "source": [
    "import os\n",
    "\n",
    "import torch\n",
    "import numpy as np\n",
    "import pandas as pd\n",
    "\n",
    "from sklearn.cluster import KMeans\n",
    "\n",
    "from preprocess import get_csv"
   ]
  },
  {
   "cell_type": "code",
   "execution_count": null,
   "metadata": {},
   "outputs": [],
   "source": [
    "from sentence_transformers import SentenceTransformer\n",
    "model = SentenceTransformer(\"all-MiniLM-L6-v2\")"
   ]
  },
  {
   "cell_type": "code",
   "execution_count": null,
   "metadata": {},
   "outputs": [],
   "source": [
    "# Set the file path for your CSV file\n",
    "file_path = 'arxiv-metadata-oai-snapshot.csv'\n",
    "\n",
    "# Check if the file exists\n",
    "if not os.path.exists(file_path):\n",
    "    # If the file does not exist, call the get_csv method\n",
    "    print(\"Creating CSV from JSON file.\")\n",
    "    get_csv()\n",
    "else:\n",
    "    print(\"The file already exists.\")\n",
    "\n",
    "# Read the CSV file into a DataFrame\n",
    "df = pd.read_csv(file_path)\n",
    "\n",
    "# Display the first few rows of the DataFrame to confirm it's loaded correctly\n",
    "print(df.head())"
   ]
  },
  {
   "cell_type": "code",
   "execution_count": null,
   "metadata": {},
   "outputs": [],
   "source": [
    "corpus = df[\"abstract\"]\n",
    "title = df[\"title\"]\n",
    "\n",
    "# Set the file path for your CSV file\n",
    "embeddings_path = 'embeddings.npy'\n",
    "\n",
    "# Check if the file exists\n",
    "if not os.path.exists(embeddings_path):\n",
    "    # If the file does not exist, call the get_embedding method\n",
    "    print(\"Creating CSV from JSON file.\")\n",
    "    corpus_embeddings = model.encode(corpus, show_progress_bar=True)\n",
    "    np.save(\"./embeddings.npy\", corpus_embeddings, allow_pickle=True)\n",
    "else:\n",
    "    print(\"The file already exists.\")\n",
    "    corpus_embeddings = np.load(\"./embeddings.npy\", allow_pickle=True)\n",
    "\n",
    "print(corpus_embeddings.shape)"
   ]
  },
  {
   "cell_type": "code",
   "execution_count": null,
   "metadata": {},
   "outputs": [],
   "source": [
    "### We need to make this cell into a function.\n",
    "\n",
    "num_clusters = 30\n",
    "clustering_model = KMeans(n_clusters=num_clusters)\n",
    "clustering_model.fit(corpus_embeddings)\n",
    "cluster_assignment = clustering_model.labels_\n",
    "\n",
    "# clustered_sentences = [[] for i in range(num_clusters)]\n",
    "# for sentence_id, cluster_id in enumerate(cluster_assignment):\n",
    "#     clustered_sentences[cluster_id].append(title[sentence_id])\n",
    "\n",
    "# # for i, cluster in enumerate(clustered_sentences):\n",
    "# #     print(\"Cluster \", i + 1)\n",
    "# #     print(cluster)\n",
    "# #     print(\"\")"
   ]
  },
  {
   "cell_type": "code",
   "execution_count": null,
   "metadata": {},
   "outputs": [],
   "source": [
    "df[\"clustering-{}\".format(num_clusters)] = cluster_assignment\n",
    "df"
   ]
  },
  {
   "cell_type": "code",
   "execution_count": null,
   "metadata": {},
   "outputs": [],
   "source": [
    "df.to_csv(\"arxiv-metadata-oai-snapshot-clustering-{}.csv\".format(num_clusters), index=False)"
   ]
  },
  {
   "cell_type": "code",
   "execution_count": null,
   "metadata": {},
   "outputs": [],
   "source": [
    "df = pd.read_csv(\"arxiv-metadata-oai-snapshot-clustering-{}.csv\".format(num_clusters))\n",
    "df"
   ]
  },
  {
   "cell_type": "code",
   "execution_count": null,
   "metadata": {},
   "outputs": [],
   "source": [
    "df[df[\"clustering-30\"] == 0]"
   ]
  },
  {
   "cell_type": "code",
   "execution_count": null,
   "metadata": {},
   "outputs": [],
   "source": []
  }
 ],
 "metadata": {
  "kernelspec": {
   "display_name": "Python 3",
   "language": "python",
   "name": "python3"
  },
  "language_info": {
   "codemirror_mode": {
    "name": "ipython",
    "version": 3
   },
   "file_extension": ".py",
   "mimetype": "text/x-python",
   "name": "python",
   "nbconvert_exporter": "python",
   "pygments_lexer": "ipython3",
   "version": "3.9.16"
  }
 },
 "nbformat": 4,
 "nbformat_minor": 5
}
