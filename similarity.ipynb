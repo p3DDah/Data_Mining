{
 "cells": [
  {
   "cell_type": "code",
   "execution_count": 1,
   "id": "initial_id",
   "metadata": {
    "collapsed": true,
    "ExecuteTime": {
     "end_time": "2023-12-01T06:19:07.960113700Z",
     "start_time": "2023-12-01T06:19:02.163102500Z"
    }
   },
   "outputs": [],
   "source": [
    "import numpy as np\n",
    "from scipy.stats import multivariate_normal, multivariate_t\n",
    "import os\n",
    "import torch\n",
    "import pandas as pd\n",
    "from sklearn.cluster import KMeans\n",
    "from preprocess import get_csv\n",
    "from sklearn.metrics.pairwise import cosine_similarity\n",
    "import logging\n",
    "import matplotlib.pyplot as plt\n",
    "import seaborn as sns"
   ]
  },
  {
   "cell_type": "code",
   "execution_count": 2,
   "id": "a65e7f94",
   "metadata": {
    "ExecuteTime": {
     "end_time": "2023-12-01T06:19:07.969773200Z",
     "start_time": "2023-12-01T06:19:07.948072300Z"
    }
   },
   "outputs": [],
   "source": [
    "def kl_divergence(X0, X1):\n",
    "    mean0 = np.mean(X0, axis=0)\n",
    "    cov0 = np.cov(X0, rowvar=False)\n",
    "    mean1 = np.mean(X1, axis=0)\n",
    "    cov1 = np.cov(X1, rowvar=False)\n",
    "\n",
    "    print(np.mean(cov0))\n",
    "    print(np.max(cov0))\n",
    "    print(np.mean(cov1))\n",
    "    print(np.max(cov1))\n",
    "\n",
    "    mvn0 = multivariate_normal(mean=mean0, cov=cov0, allow_singular = True)\n",
    "    mvn1 = multivariate_normal(mean=mean1, cov=cov1, allow_singular = True)\n",
    "    \n",
    "    # X = mvn0.rvs(size=1000)\n",
    "    \n",
    "    pdf0 = mvn0.logpdf(X0)\n",
    "    pdf1 = mvn1.logpdf(X0)\n",
    "    \n",
    "    for i in range(pdf0.shape[0]):\n",
    "        if pdf0[i] == -np.inf:\n",
    "            pdf0[i] = -1e5\n",
    "    for i in range(pdf1.shape[0]):\n",
    "        if pdf1[i] == -np.inf:\n",
    "            pdf1[i] = -1e5\n",
    "    \n",
    "    kl_div = np.mean(pdf0-pdf1)\n",
    "    \n",
    "    return kl_div\n",
    "    "
   ]
  },
  {
   "cell_type": "code",
   "execution_count": 3,
   "id": "3f9c100d",
   "metadata": {
    "ExecuteTime": {
     "end_time": "2023-12-01T06:19:07.969773200Z",
     "start_time": "2023-12-01T06:19:07.960113700Z"
    }
   },
   "outputs": [],
   "source": [
    "def cos_similarity(X0, X1):\n",
    "    X0 = X0/np.linalg.norm(X0, axis=1)[:, np.newaxis]\n",
    "    X1 = X1/np.linalg.norm(X1, axis=1)[:, np.newaxis]\n",
    "    \n",
    "    cos_sim = cosine_similarity(X0, X1)\n",
    "    avg_sim = np.mean(cos_sim)\n",
    "    \n",
    "    return avg_sim"
   ]
  },
  {
   "cell_type": "code",
   "execution_count": 4,
   "id": "65712e21",
   "metadata": {
    "ExecuteTime": {
     "end_time": "2023-12-01T06:19:08.559425300Z",
     "start_time": "2023-12-01T06:19:07.975780800Z"
    }
   },
   "outputs": [
    {
     "name": "stdout",
     "output_type": "stream",
     "text": [
      "Creating CSV from JSON file.\n"
     ]
    },
    {
     "ename": "NameError",
     "evalue": "name 'model' is not defined",
     "output_type": "error",
     "traceback": [
      "\u001B[1;31m---------------------------------------------------------------------------\u001B[0m",
      "\u001B[1;31mNameError\u001B[0m                                 Traceback (most recent call last)",
      "Cell \u001B[1;32mIn[4], line 7\u001B[0m\n\u001B[0;32m      4\u001B[0m \u001B[38;5;28;01mif\u001B[39;00m \u001B[38;5;129;01mnot\u001B[39;00m os\u001B[38;5;241m.\u001B[39mpath\u001B[38;5;241m.\u001B[39mexists(embeddings_path):\n\u001B[0;32m      5\u001B[0m     \u001B[38;5;66;03m# If the file does not exist, call the get_embedding method\u001B[39;00m\n\u001B[0;32m      6\u001B[0m     \u001B[38;5;28mprint\u001B[39m(\u001B[38;5;124m\"\u001B[39m\u001B[38;5;124mCreating CSV from JSON file.\u001B[39m\u001B[38;5;124m\"\u001B[39m)\n\u001B[1;32m----> 7\u001B[0m     corpus_embeddings \u001B[38;5;241m=\u001B[39m model\u001B[38;5;241m.\u001B[39mencode(corpus, show_progress_bar\u001B[38;5;241m=\u001B[39m\u001B[38;5;28;01mTrue\u001B[39;00m)\n\u001B[0;32m      8\u001B[0m     np\u001B[38;5;241m.\u001B[39msave(\u001B[38;5;124m\"\u001B[39m\u001B[38;5;124m./embeddings.npy\u001B[39m\u001B[38;5;124m\"\u001B[39m, corpus_embeddings, allow_pickle\u001B[38;5;241m=\u001B[39m\u001B[38;5;28;01mTrue\u001B[39;00m)\n\u001B[0;32m      9\u001B[0m \u001B[38;5;28;01melse\u001B[39;00m:\n",
      "\u001B[1;31mNameError\u001B[0m: name 'model' is not defined"
     ]
    }
   ],
   "source": [
    "embeddings_path = 'embeddings.npy'\n",
    "\n",
    "# Check if the file exists\n",
    "if not os.path.exists(embeddings_path):\n",
    "    # If the file does not exist, call the get_embedding method\n",
    "    print(\"Creating CSV from JSON file.\")\n",
    "    corpus_embeddings = model.encode(corpus, show_progress_bar=True)\n",
    "    np.save(\"./embeddings.npy\", corpus_embeddings, allow_pickle=True)\n",
    "else:\n",
    "    print(\"The file already exists.\")\n",
    "    corpus_embeddings = np.load(\"./embeddings.npy\", allow_pickle=True)\n",
    "\n",
    "print(corpus_embeddings.shape)"
   ]
  },
  {
   "cell_type": "code",
   "execution_count": null,
   "id": "4fb89cc1",
   "metadata": {
    "ExecuteTime": {
     "end_time": "2023-12-01T06:19:08.575066800Z",
     "start_time": "2023-12-01T06:19:08.559425300Z"
    }
   },
   "outputs": [],
   "source": [
    "clusters = np.load(\"./clusters.npy\", allow_pickle=True)"
   ]
  },
  {
   "cell_type": "code",
   "execution_count": null,
   "id": "a9bdf83c",
   "metadata": {
    "ExecuteTime": {
     "start_time": "2023-12-01T06:19:08.559425300Z"
    }
   },
   "outputs": [],
   "source": [
    "# kldivergence\n",
    "\n",
    "kld = np.zeros((30, 30))\n",
    "\n",
    "for i in range(10):\n",
    "    for j in range(10):\n",
    "        kld[i,j] = kl_divergence(corpus_embeddings[np.where(clusters==i)[0]], corpus_embeddings[np.where(clusters==j)[0]])"
   ]
  },
  {
   "cell_type": "code",
   "execution_count": null,
   "id": "1c945d61",
   "metadata": {
    "ExecuteTime": {
     "start_time": "2023-12-01T06:19:08.559425300Z"
    }
   },
   "outputs": [],
   "source": [
    "cos = np.zeros((30, 30))\n",
    "\n",
    "for i in range(10):\n",
    "    for j in range(10):\n",
    "        cos[i,j] = cos_similarity(corpus_embeddings[np.where(clusters==i)[0]], corpus_embeddings[np.where(clusters==j)[0]])"
   ]
  },
  {
   "cell_type": "code",
   "execution_count": null,
   "id": "7f74c30f",
   "metadata": {
    "ExecuteTime": {
     "start_time": "2023-12-01T06:19:08.575066800Z"
    }
   },
   "outputs": [],
   "source": [
    "def create_sim_matrix(sim, title = 'hello', name = 'hi.png', fmt=\".0f\"):\n",
    "    folder_name = \"Matrix\"\n",
    "\n",
    "    # Create the folder if it doesn't exist\n",
    "    if not os.path.exists(folder_name):\n",
    "        os.makedirs(folder_name)\n",
    "    \n",
    "    # Check if the data is a square matrix\n",
    "    if sim.shape[0] != sim.shape[1]:\n",
    "        logging.info(\"Data is not in the correct format. It should be a square matrix.\")\n",
    "        return\n",
    "    \n",
    "    # Reverse the order of the columns\n",
    "    # data = data[data.columns[::-1]]\n",
    "\n",
    "    plt.figure()\n",
    "    heatmap = sns.heatmap(sim, annot=True, cmap='PiYG', fmt = fmt)\n",
    "    plt.title(title)\n",
    "    plt.tight_layout()\n",
    "\n",
    "    # Save the matrix to the specified folder\n",
    "    save_path = os.path.join(folder_name, name)\n",
    "    heatmap.figure.savefig(save_path)\n",
    "    logging.info(f\"matrix saved to {save_path}\")\n",
    "\n",
    "    # Optionally, display the matrix\n",
    "    plt.show()"
   ]
  },
  {
   "cell_type": "code",
   "execution_count": null,
   "id": "3d7b472b",
   "metadata": {
    "ExecuteTime": {
     "end_time": "2023-12-01T06:19:08.575066800Z",
     "start_time": "2023-12-01T06:19:08.575066800Z"
    }
   },
   "outputs": [],
   "source": [
    "create_sim_matrix(kld[:10,:10], title='kld', name='kld_matrix.png')\n",
    "create_sim_matrix(cos[:10,:10], title='cos', name='cos_matrix.png', fmt=\".3f\")"
   ]
  },
  {
   "cell_type": "code",
   "execution_count": null,
   "id": "ea35c103",
   "metadata": {
    "ExecuteTime": {
     "start_time": "2023-12-01T06:19:08.575066800Z"
    }
   },
   "outputs": [],
   "source": [
    "years = np.load(\"./years.npy\", allow_pickle=True)"
   ]
  },
  {
   "cell_type": "code",
   "execution_count": null,
   "id": "77e8ee6f",
   "metadata": {
    "ExecuteTime": {
     "start_time": "2023-12-01T06:19:08.589632700Z"
    }
   },
   "outputs": [],
   "source": [
    "divide_years = [1986, 1996, 2006, 2016, 2026]\n",
    "\n",
    "cos_years = np.zeros((30, len(divide_years)-1, len(divide_years)-1))\n",
    "\n",
    "for i in range(10):\n",
    "    for j in range(len(divide_years)-1):\n",
    "        for k in range(len(divide_years)-1):\n",
    "            cos_years[i,j,k] = cos_similarity(corpus_embeddings[np.where((clusters==i) & (years>=divide_years[j]) & (years<divide_years[j+1]))[0]], \n",
    "                                              corpus_embeddings[np.where((clusters==i) & (years>=divide_years[k]) & (years<divide_years[k+1]))[0]])\n"
   ]
  },
  {
   "cell_type": "code",
   "execution_count": null,
   "id": "60c2cb7f",
   "metadata": {
    "ExecuteTime": {
     "start_time": "2023-12-01T06:19:08.589632700Z"
    }
   },
   "outputs": [],
   "source": [
    "print(cos_years[4,:,:])"
   ]
  },
  {
   "cell_type": "code",
   "execution_count": null,
   "id": "7bffbe83",
   "metadata": {
    "ExecuteTime": {
     "start_time": "2023-12-01T06:19:08.596648900Z"
    }
   },
   "outputs": [],
   "source": [
    "def create_year_matrix(sim, title = 'hello', name = 'hi.png', fmt=\".0f\"):\n",
    "    folder_name = \"Matrix/years\"\n",
    "\n",
    "    # Create the folder if it doesn't exist\n",
    "    if not os.path.exists(folder_name):\n",
    "        os.makedirs(folder_name)\n",
    "    \n",
    "    # Check if the data is a square matrix\n",
    "    if sim.shape[0] != sim.shape[1]:\n",
    "        logging.info(\"Data is not in the correct format. It should be a square matrix.\")\n",
    "        return\n",
    "    \n",
    "    # Reverse the order of the columns\n",
    "    # data = data[data.columns[::-1]]\n",
    "    plt.figure()\n",
    "    heatmap = sns.heatmap(sim, vmin=0, vmax=1, annot=True, cmap='PiYG', fmt = fmt)\n",
    "    plt.title(title)\n",
    "    plt.tight_layout()\n",
    "\n",
    "    # Save the matrix to the specified folder\n",
    "    save_path = os.path.join(folder_name, name)\n",
    "    heatmap.figure.savefig(save_path)\n",
    "    logging.info(f\"matrix saved to {save_path}\")\n",
    "\n",
    "    # Optionally, display the matrix\n",
    "    plt.show()"
   ]
  },
  {
   "cell_type": "code",
   "execution_count": null,
   "id": "aaf060f7",
   "metadata": {
    "ExecuteTime": {
     "start_time": "2023-12-01T06:19:08.596648900Z"
    }
   },
   "outputs": [],
   "source": [
    "for i in range(10):\n",
    "    create_year_matrix(cos_years[i], title=f'cos_matrix_{i}', name=f'cos_matrix_{i}.png', fmt=\".3f\")"
   ]
  },
  {
   "cell_type": "code",
   "execution_count": null,
   "id": "e8040fb2",
   "metadata": {
    "ExecuteTime": {
     "end_time": "2023-12-01T06:19:08.714955300Z",
     "start_time": "2023-12-01T06:19:08.596648900Z"
    }
   },
   "outputs": [],
   "source": []
  }
 ],
 "metadata": {
  "kernelspec": {
   "display_name": "Python 3",
   "language": "python",
   "name": "python3"
  },
  "language_info": {
   "codemirror_mode": {
    "name": "ipython",
    "version": 3
   },
   "file_extension": ".py",
   "mimetype": "text/x-python",
   "name": "python",
   "nbconvert_exporter": "python",
   "pygments_lexer": "ipython3",
   "version": "3.8.16"
  }
 },
 "nbformat": 4,
 "nbformat_minor": 5
}
